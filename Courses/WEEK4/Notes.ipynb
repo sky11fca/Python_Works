{
 "cells": [
  {
   "metadata": {},
   "cell_type": "markdown",
   "source": "# Sets and Keyed Collections",
   "id": "abcb383beba4338c"
  },
  {
   "metadata": {},
   "cell_type": "markdown",
   "source": "## Sets",
   "id": "c119eada42c5cdb8"
  },
  {
   "metadata": {},
   "cell_type": "markdown",
   "source": "a list of unique data -> each element of the list must be distinct between 2 elements no matter data types",
   "id": "54b3b38c5e549d6f"
  },
  {
   "metadata": {},
   "cell_type": "markdown",
   "source": "Can be declared using the keyword set or a list surrounded by {}",
   "id": "c78623b7a05acfff"
  },
  {
   "metadata": {},
   "cell_type": "markdown",
   "source": [
    "Supports the following operations:\n",
    "- Intersection\n",
    "- Union\n",
    "- Difference\n",
    "- Symmetric Difference"
   ],
   "id": "da7a0d733f4e5417"
  },
  {
   "metadata": {
    "collapsed": true,
    "ExecuteTime": {
     "end_time": "2025-10-20T13:50:22.238923Z",
     "start_time": "2025-10-20T13:50:22.233599Z"
    }
   },
   "cell_type": "code",
   "source": [
    "x = set() # Empty ser\n",
    "\n",
    "x = {1, 2, 3} # elements 1, 2, 3\n",
    "x = {1, 1, 1, 2, 2, 3} # elements 1, 2, 3\n",
    "x = {1, 2, \"AB\", \"ab\"} # elements 1, 2, AB, ab\n",
    "x = set((1,2,3,2)) #x is a set containing 3 elements: 1,2 and 3\n",
    "x = set([1,2,3,2]) #x is a set containing 3 elements: 1,2 and 3\n",
    "x = set(\"Hello\") #x is a set containing 4 characters: H,e,l and o"
   ],
   "id": "45e25490c946d70f",
   "outputs": [
    {
     "name": "stdout",
     "output_type": "stream",
     "text": [
      "{1, 2, 3, 4, 5, 6}\n"
     ]
    }
   ],
   "execution_count": 1
  },
  {
   "metadata": {},
   "cell_type": "markdown",
   "source": "Elements of a set CANNOT BE ACCESSED (Unordered collection)",
   "id": "59fe5c5f9c9b2b82"
  },
  {
   "metadata": {},
   "cell_type": "code",
   "outputs": [],
   "execution_count": null,
   "source": [
    "x = {'A', 'B', 2, 3, 'C'}\n",
    "x[0], x[1], x[1:2], = None, None, None"
   ],
   "id": "479328e4f1c987f1"
  },
  {
   "metadata": {},
   "cell_type": "markdown",
   "source": "Additionally, there is no addition between sets",
   "id": "cf679f392875b104"
  },
  {
   "metadata": {},
   "cell_type": "code",
   "outputs": [],
   "execution_count": null,
   "source": [
    "x = {'A', 'B', 2, 3, 'C'}\n",
    "y = {'D', 'E', 1}\n",
    "z = y + x #!!!ERROR !!"
   ],
   "id": "3e46474cd9b3bccb"
  },
  {
   "metadata": {},
   "cell_type": "markdown",
   "source": "### Supported Set Operation",
   "id": "53d19d0af2fb1656"
  },
  {
   "metadata": {},
   "cell_type": "markdown",
   "source": "- `add()` method",
   "id": "f80217f2739059f0"
  },
  {
   "metadata": {},
   "cell_type": "code",
   "outputs": [],
   "execution_count": null,
   "source": [
    "x = {1,2,3} #x = {1, 2, 3}\n",
    "x.add(4) #x = {1, 2, 3, 4}\n",
    "x.add(1) #x = {1, 2, 3, 4}"
   ],
   "id": "779379cace433d8b"
  },
  {
   "metadata": {},
   "cell_type": "markdown",
   "source": "- `remove()`, `discard()`, `clear()` methods",
   "id": "30f5e13b7540cff2"
  },
  {
   "metadata": {},
   "cell_type": "code",
   "outputs": [],
   "execution_count": null,
   "source": [
    "x = {1,2,3} #x = {1, 2, 3}\n",
    "x.remove(1) #x = {2, 3}\n",
    "x.discard(2) #x = {3}\n",
    "x.discard(2) #x = {3}\n",
    "\n",
    "x = {1,2,3} #x = {1, 2, 3}\n",
    "x.clear() #x = {}"
   ],
   "id": "8d7065fd8aaf3746"
  },
  {
   "metadata": {},
   "cell_type": "markdown",
   "source": "- Updating a set: `update()` method and operator `|=`",
   "id": "5495274bdc2a719"
  },
  {
   "metadata": {},
   "cell_type": "code",
   "outputs": [],
   "execution_count": null,
   "source": [
    "x = {1,2,3} #x = {1, 2, 3}\n",
    "x |= {3,4,5} #x = {1, 2, 3, 4, 5}\n",
    "x.update({5,6}) #x = {1, 2, 3, 4, 5, 6}\n",
    "x.update({5,6},{6,7}) #x = {1, 2, 3, 4, 5, 6, 7}\n",
    "x.update({8},{6},{9}) #x = {1, 2, 3, 4, 5, 6, 7, 8, 9}"
   ],
   "id": "1f68272ad84258d"
  },
  {
   "metadata": {},
   "cell_type": "markdown",
   "source": "### Union of sets",
   "id": "e3edbf40995321bb"
  },
  {
   "metadata": {},
   "cell_type": "code",
   "outputs": [],
   "execution_count": null,
   "source": [
    "x = {1,2,3}\n",
    "y = {3,4,5}\n",
    "t = {2,4,6}\n",
    "z = x | y | t #z = {1, 2, 3, 4, 5, 6}\n",
    "s = {7,8}\n",
    "w = x.union(s) #w = {1, 2, 3, 7, 8}\n",
    "w = x.union(s, y, t) #w = {1, 2, 3, 4, 5, 6, 7, 8}"
   ],
   "id": "33f91d20699380f0"
  },
  {
   "metadata": {},
   "cell_type": "markdown",
   "source": "### Intersection of sets",
   "id": "ca25d6cf06d977d7"
  },
  {
   "metadata": {},
   "cell_type": "code",
   "outputs": [],
   "execution_count": null,
   "source": [
    "x = {1,2,3,4}\n",
    "y = {2,3,4,5}\n",
    "t = {3,4,5,6}\n",
    "z = x & y & t #z = {3, 4}\n",
    "w = x.intersection(y) #w = {2, 3, 4}\n",
    "w = x.intersection(y, t)#w = {3, 4}"
   ],
   "id": "e187acfa2a242867"
  },
  {
   "metadata": {},
   "cell_type": "markdown",
   "source": "### Set Difference",
   "id": "f76625127a6a1935"
  },
  {
   "metadata": {},
   "cell_type": "code",
   "outputs": [],
   "execution_count": null,
   "source": [
    "x = {1,2,3,4}\n",
    "y = {2,3,4,5}\n",
    "z = x - y #z = {1}\n",
    "z = y - x #z = {5}\n",
    "w = x.difference(y) #w = {1}\n",
    "s = {1,2,3}\n",
    "w = x.difference(y,s) #w = {} → empty set"
   ],
   "id": "8af3e40b52cf6838"
  },
  {
   "metadata": {},
   "cell_type": "markdown",
   "source": "### Set Symmetric Difference",
   "id": "9683ef69be341876"
  },
  {
   "metadata": {},
   "cell_type": "code",
   "outputs": [],
   "execution_count": null,
   "source": [
    "x = {1,2,3,4}\n",
    "y = {2,3,4,5}\n",
    "z = x ^ y #z = {1, 5}\n",
    "z = y ^ x #z = {1, 5}\n",
    "w = x.symmetric_difference(y) #w = {1, 5}\n",
    "s = {1,2,3}\n",
    "w = x.symmetric_difference(y,s) #!!! ERROR !!!"
   ],
   "id": "907feffb34e9ba1c"
  },
  {
   "metadata": {},
   "cell_type": "markdown",
   "source": "### Unary operation of a set",
   "id": "1a1c3e42a9ab8217"
  },
  {
   "metadata": {},
   "cell_type": "markdown",
   "source": [
    "- Intersection\n",
    "    - intersection_update, &=\n",
    "- Difference\n",
    "    - difference_update, -=\n",
    "- Symmetric Difference\n",
    "    - symmetric_difference_update, ^=\n",
    "- Union\n",
    "    - update, |="
   ],
   "id": "4d3d54bd3b0f2e82"
  },
  {
   "metadata": {},
   "cell_type": "markdown",
   "source": "### Sets and other collection operations",
   "id": "a301bb765917c796"
  },
  {
   "metadata": {},
   "cell_type": "markdown",
   "source": "- Inclusion",
   "id": "35a5af3924c7b33d"
  },
  {
   "metadata": {},
   "cell_type": "code",
   "outputs": [],
   "execution_count": null,
   "source": [
    "x = {1,2,3,4}\n",
    "y = 2 in x #y = True\n",
    "z = 5 not in x #z = True"
   ],
   "id": "b6faecdcaab15d60"
  },
  {
   "metadata": {},
   "cell_type": "markdown",
   "source": "- Length of a set",
   "id": "ca95c182203b08df"
  },
  {
   "metadata": {},
   "cell_type": "code",
   "outputs": [],
   "execution_count": null,
   "source": [
    "x = {10,20,30,40}\n",
    "y = len (x) #y = 4"
   ],
   "id": "d1f4d7a625b32597"
  },
  {
   "metadata": {},
   "cell_type": "markdown",
   "source": "### Other operation",
   "id": "894112f4e4b938d6"
  },
  {
   "metadata": {},
   "cell_type": "markdown",
   "source": "- Disjointed Sets",
   "id": "64d2739e4b79a86c"
  },
  {
   "metadata": {},
   "cell_type": "code",
   "outputs": [],
   "execution_count": null,
   "source": [
    "x = {1,2,3,4}\n",
    "y = {10,20,30,40}\n",
    "z = x.isdisjoint(y) #z = True"
   ],
   "id": "6237f4ff0cc9dd7d"
  },
  {
   "metadata": {},
   "cell_type": "markdown",
   "source": "- Subsets",
   "id": "341aee855111b9a4"
  },
  {
   "metadata": {},
   "cell_type": "code",
   "outputs": [],
   "execution_count": null,
   "source": [
    "x = {1,2,3,4}\n",
    "y = {1,2,3,4,5,6}\n",
    "z = x.issubset(y) #z = True\n",
    "t = x <= y #t = True"
   ],
   "id": "a0b44b42236e8ba1"
  },
  {
   "metadata": {},
   "cell_type": "markdown",
   "source": "- Superset",
   "id": "323054edd6ef4279"
  },
  {
   "metadata": {},
   "cell_type": "code",
   "outputs": [],
   "execution_count": null,
   "source": [
    "x = {1,2,3,4}\n",
    "y = {1,2,3,4,5,6}\n",
    "z = y.issuperset(x) #z = True\n",
    "t = y >= x #t = True"
   ],
   "id": "a3eab8fcb3abdcd1"
  },
  {
   "metadata": {},
   "cell_type": "markdown",
   "source": "Sets also support > and < operators. It shows whether a set is a subset or superset of other set. BUT NOT EXACTLY THE SAME SET",
   "id": "befe91ad855484c8"
  },
  {
   "metadata": {},
   "cell_type": "code",
   "outputs": [],
   "execution_count": null,
   "source": [
    "x = {1,2,3,4}\n",
    "y = {1,2,3,4,5,6}\n",
    "t = y > x #t = True\n",
    "\n",
    "x = {1,2,3,4}\n",
    "y = {1,2,3,4}\n",
    "t = y > x #t = False"
   ],
   "id": "6d85c5fa385cfc9"
  },
  {
   "metadata": {},
   "cell_type": "markdown",
   "source": "- Popping an element of a set",
   "id": "ade6885ed0e1650e"
  },
  {
   "metadata": {
    "ExecuteTime": {
     "end_time": "2025-10-20T14:14:11.474979Z",
     "start_time": "2025-10-20T14:14:11.470462Z"
    }
   },
   "cell_type": "code",
   "source": [
    "x = {\"A\",\"a\",\"B\",\"b\",1,2,3}\n",
    "print (x)\n",
    "print (x.pop())"
   ],
   "id": "6b3152fbe98e1f43",
   "outputs": [
    {
     "name": "stdout",
     "output_type": "stream",
     "text": [
      "{'a', 1, 2, 3, 'b', 'A', 'B'}\n",
      "a\n"
     ]
    }
   ],
   "execution_count": 5
  },
  {
   "metadata": {},
   "cell_type": "markdown",
   "source": "### Sets and Functional Programming",
   "id": "dcc0e4dc405298ef"
  },
  {
   "metadata": {},
   "cell_type": "code",
   "outputs": [],
   "execution_count": null,
   "source": [
    "# set of numbers from 1 to 9\n",
    "x = {i for i in range(1,9)} #x = {1,2,3,4,5,6,7,8}\n",
    "\n",
    "# set of numbers from 1 to 99 that are divisible by 23\n",
    "x = {i for i in range(1,100) if i % 23 == 0} #x = {23, 46, 69, 92}\n",
    "\n",
    "# set of first 5 squares\n",
    "x = {i*i for i in range(1,6)} #x = {1, 4, 9, 16, 25}\n",
    "\n",
    "# set of modulos of 5 from 0 to 99\n",
    "x = {i%5 for i in range(0,100)} #x = {0, 1, 2, 3, 4}"
   ],
   "id": "9a0de575241946bd"
  },
  {
   "metadata": {},
   "cell_type": "markdown",
   "source": "### Sets and Built-in Functions",
   "id": "66e98ab2e6d0250d"
  },
  {
   "metadata": {},
   "cell_type": "markdown",
   "source": "- `map()` functions",
   "id": "90c45a87ffa488d2"
  },
  {
   "metadata": {},
   "cell_type": "code",
   "outputs": [],
   "execution_count": null,
   "source": [
    "x = {1,2,3,4,5}\n",
    "\n",
    "# set of square numbers of elements of set x\n",
    "y = set(map(lambda element: element*element,x)) #y = {1,4,9,16,25}\n",
    "\n",
    "\n",
    "x = [1,2,3]\n",
    "y = [4,5,6]\n",
    "\n",
    "# set of sum of elements from x and y\n",
    "z = set(map(lambda e1,e2: e1+e2,x,y)) #z = {5,7,9}"
   ],
   "id": "21b2baf710fd18ee"
  },
  {
   "metadata": {},
   "cell_type": "markdown",
   "source": "- `filter()` functions and lambda functions",
   "id": "145b7d72633d5d45"
  },
  {
   "metadata": {},
   "cell_type": "code",
   "outputs": [],
   "execution_count": null,
   "source": [
    "x = [1,2,3,4,5]\n",
    "\n",
    "# set of even elements of set x\n",
    "y = set(filter(lambda element: element%2==0,x)) #y = {2,4}"
   ],
   "id": "6e4f0241f2decee8"
  },
  {
   "metadata": {},
   "cell_type": "code",
   "outputs": [],
   "execution_count": null,
   "source": [
    "# set of squares of numbers from 1 to 9\n",
    "x = set(map(lambda x: x*x, range(1,10))) #x = {1, 4, 9, 16, 25, 36, 49, 64, 81}\n",
    "\n",
    "# set of numbers that are 1 in modulo 7\n",
    "x = set(filter(lambda x: x%7==1,range(1,100))) #x = {1, 8, 15, 22, 29, 36, 43, 50, 57, 64, 71, 78, 85, 92, 99}"
   ],
   "id": "eeb7c15e9f08b682"
  },
  {
   "metadata": {},
   "cell_type": "markdown",
   "source": "- Other functions include, min, max, sum, any, all, sorted, reversed",
   "id": "b934f9bda3764169"
  },
  {
   "metadata": {},
   "cell_type": "markdown",
   "source": "- Iterating a set",
   "id": "3f61fd7a4cf90a1f"
  },
  {
   "metadata": {
    "ExecuteTime": {
     "end_time": "2025-10-20T14:21:11.927131Z",
     "start_time": "2025-10-20T14:21:11.922437Z"
    }
   },
   "cell_type": "code",
   "source": [
    "for i in {1,2,3,4,5}:\n",
    "    print(i)"
   ],
   "id": "d4656972c4296ed3",
   "outputs": [
    {
     "name": "stdout",
     "output_type": "stream",
     "text": [
      "1\n",
      "2\n",
      "3\n",
      "4\n",
      "5\n"
     ]
    }
   ],
   "execution_count": 6
  },
  {
   "metadata": {},
   "cell_type": "markdown",
   "source": "- `frozenset()` function",
   "id": "c391fca29a169041"
  },
  {
   "metadata": {},
   "cell_type": "code",
   "outputs": [],
   "execution_count": null,
   "source": [
    "x = frozenset ({1,2,3})\n",
    "x.add(10) #!!!ERROR!!!"
   ],
   "id": "32f8fa85018c9536"
  },
  {
   "metadata": {},
   "cell_type": "markdown",
   "source": "## Dictionaries",
   "id": "da5299fc4c4e6943"
  },
  {
   "metadata": {},
   "cell_type": "markdown",
   "source": [
    "- Implementation of a hash-map in Python (key -> value) pair\n",
    "- Can be created with keyword `dict` or between {}"
   ],
   "id": "a0fe0c57df7acd6a"
  },
  {
   "metadata": {
    "ExecuteTime": {
     "end_time": "2025-10-20T13:51:12.386680Z",
     "start_time": "2025-10-20T13:51:12.381167Z"
    }
   },
   "cell_type": "code",
   "source": [
    "x = dict() #x is an empty dictionary\n",
    "x = {} #x is an empty dict (typeof(x)=“dict”)\n",
    "x = {\"A\":1, \"B\":2} #x is a dictionary with 2 keys\n",
    "#(“A” and “B”)\n",
    "x = dict(abc=1,aaa=2) #equivalent to x= {”abc”:1, ”aaa”:2}\n",
    "x = dict({\"abc\":1,\"aaa\":2}) #equivalent to x= {”abc”:1, ”aaa”:2}\n",
    "x = dict([(\"abc\",1) ,(\"aaa\",2)]) #equivalent to x= {”abc”:1, ”aaa”:2}\n",
    "x = dict(((\"abc\",1) ,(\"aaa\",2))) #equivalent to x= {”abc”:1, ”aaa”:2}\n",
    "x = dict(zip([\"abc\",\"aaa\"],[1,2]))#equivalent to x= {”abc”:1, ”aaa”:2}"
   ],
   "id": "a1e1a63a0b0cf1cd",
   "outputs": [
    {
     "name": "stdout",
     "output_type": "stream",
     "text": [
      "{'apples': 6, 'bananas': 7, 'oranges': 7}\n"
     ]
    }
   ],
   "execution_count": 2
  },
  {
   "metadata": {},
   "cell_type": "markdown",
   "source": "- Accessing an element by index is done using []. This time, an index can be of any type",
   "id": "3442bb4b4179642d"
  },
  {
   "metadata": {},
   "cell_type": "code",
   "outputs": [],
   "execution_count": null,
   "source": [
    "x = {} #x is an empty dictionary\n",
    "x['ABC'] = 2 #x is a dictionary with one key (ABC)\n",
    "y = x['ABC'] #y = 2\n",
    "y = x['test'] #!!! ERROR !!!"
   ],
   "id": "6e88f47a64687491"
  },
  {
   "metadata": {},
   "cell_type": "markdown",
   "source": "- `setdefault` updating an element of dictionary",
   "id": "255677b56274cf2d"
  },
  {
   "metadata": {},
   "cell_type": "code",
   "outputs": [],
   "execution_count": null,
   "source": [
    "x = {'A':1, 'B':2} #x = {”A”:1,”B”:2}\n",
    "y = x.setdefault('C',3) #x = {”A”:1,”B”:2,”C:3”}, y=3\n",
    "y = x.setdefault('D') #x = {”A”:1,”B”:2,”C:3”,”D”:None}, y=None\n",
    "y = x.setdefault('A') #x = {”A”:1,”B”:2,”C:3”,”D”:None}, y=1\n",
    "y = x.setdefault('B',20) #x = {”A”:1,”B”:2,”C:3”,”D”:None}, y=2"
   ],
   "id": "97f41562ef5a8383"
  },
  {
   "metadata": {},
   "cell_type": "markdown",
   "source": "- `update`",
   "id": "fb2d14ab4a2cb7e8"
  },
  {
   "metadata": {},
   "cell_type": "code",
   "outputs": [],
   "execution_count": null,
   "source": [
    "x = {'A':1, 'B':2} #x = {”A”:1,”B”:2}\n",
    "x.update({'A':10}) #x = {”A”:10,”B”:2}\n",
    "x.update({'A':100,'B':5}) #x = {”A”:100,”B”:5}\n",
    "x.update({'C':3}) #x = {”A”:100,”B”:5,”C”:3}\n",
    "x.update(D=123,E=111) #x = {”A”:100,”B”:5,”C”:3,”D”:123,”E”:111}"
   ],
   "id": "2d9a2d2e8aa37fd"
  },
  {
   "metadata": {},
   "cell_type": "markdown",
   "source": "- `del` and `clear`",
   "id": "d56b8d9bfba5d168"
  },
  {
   "metadata": {},
   "cell_type": "code",
   "outputs": [],
   "execution_count": null,
   "source": [
    "x = {'A':1, 'B':2} #x = {”A”:1,”B”:2}\n",
    "del x['A'] #x = {”B”:2}\n",
    "x.clear() #x is an empty dictionary\n",
    "del x['C'] #!!! ERROR !!! “C” is not a key in x"
   ],
   "id": "84696758a7389d88"
  },
  {
   "metadata": {},
   "cell_type": "markdown",
   "source": "- `copy` and `fromkeys`",
   "id": "3d73c7946658f0c2"
  },
  {
   "metadata": {},
   "cell_type": "code",
   "outputs": [],
   "execution_count": null,
   "source": [
    "x = {'A':1, 'B':2} #x={”A”:1,”B”:2}\n",
    "y = x.copy() #makes a shallow copy of x\n",
    "y['C']=3 #x={”A”:1,”B”:2},y={”A”:1,”B”:2,”C”:3}\n",
    "x = dict.fromkeys(['A','B']) #x = {”A”:None,”B”:None}\n",
    "x = dict.fromkeys(['A','B'],2)#x = {”A”:2,”B”:2}"
   ],
   "id": "533f8e8a0e0af564"
  },
  {
   "metadata": {},
   "cell_type": "markdown",
   "source": "- `get`",
   "id": "fefc0f895db5187c"
  },
  {
   "metadata": {},
   "cell_type": "code",
   "outputs": [],
   "execution_count": null,
   "source": [
    "x = {'A':1, 'B':2} #x = {”A”:1,”B”:2}\n",
    "y = x.get('A') #y = 1\n",
    "y = x.get('C') #y = None\n",
    "y = x.get('C',123) #y = 123"
   ],
   "id": "cabcfb8399265352"
  },
  {
   "metadata": {},
   "cell_type": "markdown",
   "source": "- pop",
   "id": "baf3435bcff6d722"
  },
  {
   "metadata": {},
   "cell_type": "code",
   "outputs": [],
   "execution_count": null,
   "source": [
    "x = {'A':1, 'B':2} #x={”A”:1,”B”:2}\n",
    "y = x.pop('A') #x={”B”:2}, y = 1\n",
    "y = x.pop('C',123) #x={”B”:2}, y = 123\n",
    "y = x.pop('D') #!!! ERROR !!! Key “D” does not exist\n",
    "#and no default value was provided"
   ],
   "id": "188961f5842ecd33"
  },
  {
   "metadata": {},
   "cell_type": "markdown",
   "source": "### Dictionaries and Functional Programming",
   "id": "52d32f28c35e4c2a"
  },
  {
   "metadata": {},
   "cell_type": "code",
   "outputs": [],
   "execution_count": null,
   "source": [
    "x = {i:i for i in range(1,9)}\n",
    "#x = {1:1,2:2,3:3,4:4,5:5,6:6,7:7,8:8}\n",
    "x = {i:chr(64+i) for i in range(1,9)}\n",
    "#x = {1:”A”,2:”B”,3:”C”,4:”D”,5:”E”,6:”F”,7:”G”,8:”H”}\n",
    "x = {i%3:i for i in range(1,9)}\n",
    "#x = {0:6,1:7,2:8} → last values that were updated\n",
    "x = {i:chr(64+i) for i in range(1,9) if i%2==0}\n",
    "#x = {2:”B”, 4:”D”, 6:”F”, 8:”H”}\n",
    "x = {i%3:chr(64+i) for i in range(1,9) if i<7}\n",
    "#x = {1:”D”, 2:”E”, 0:”F”}"
   ],
   "id": "58d84bac78575121"
  },
  {
   "metadata": {},
   "cell_type": "markdown",
   "source": "- Getting the key of a dictionary: `keys`",
   "id": "9b2237898e9dc816"
  },
  {
   "metadata": {},
   "cell_type": "code",
   "outputs": [],
   "execution_count": null,
   "source": [
    "x = {'A':1, 'B':2} #x = {”A”:1,”B”:2}\n",
    "y = x.keys() #y = [”A”,”B”] → an iterable object"
   ],
   "id": "bd35d67d53276d0b"
  },
  {
   "metadata": {},
   "cell_type": "markdown",
   "source": "- Iterating through a dictionary, keys only",
   "id": "ae59e3cc2bdef8fd"
  },
  {
   "metadata": {
    "ExecuteTime": {
     "end_time": "2025-10-20T14:30:22.043627Z",
     "start_time": "2025-10-20T14:30:22.039389Z"
    }
   },
   "cell_type": "code",
   "source": [
    "x = {'A':1, 'B':2}\n",
    "for i in x:\n",
    "    print (i)"
   ],
   "id": "d351283d1fb76bf",
   "outputs": [
    {
     "name": "stdout",
     "output_type": "stream",
     "text": [
      "A\n",
      "B\n"
     ]
    }
   ],
   "execution_count": 7
  },
  {
   "metadata": {
    "ExecuteTime": {
     "end_time": "2025-10-20T14:30:54.625974Z",
     "start_time": "2025-10-20T14:30:54.621861Z"
    }
   },
   "cell_type": "code",
   "source": [
    "x = {'A':1, 'B':2}\n",
    "for i in x.keys():\n",
    "    print (i)"
   ],
   "id": "9a2ff5b5ca9e0be8",
   "outputs": [
    {
     "name": "stdout",
     "output_type": "stream",
     "text": [
      "A\n",
      "B\n"
     ]
    }
   ],
   "execution_count": 8
  },
  {
   "metadata": {},
   "cell_type": "markdown",
   "source": "- To get the value for each entry: `values`",
   "id": "235946629cfb545d"
  },
  {
   "metadata": {},
   "cell_type": "code",
   "outputs": [],
   "execution_count": null,
   "source": [
    "x = {'A':1, 'B':2} #x = {”A”:1,”B”:2}\n",
    "y = x.values() #y = [”1”,”2”] → an iterable object"
   ],
   "id": "4a28df8e86857e34"
  },
  {
   "metadata": {},
   "cell_type": "code",
   "outputs": [],
   "execution_count": null,
   "source": [
    "x = {'A':1, 'B':2}\n",
    "for i in x.values():\n",
    "    print (i)"
   ],
   "id": "a245b123ab12f7f8"
  },
  {
   "metadata": {},
   "cell_type": "markdown",
   "source": "- `item` -> returns a tuple of key and value",
   "id": "a7304159dde8a718"
  },
  {
   "metadata": {},
   "cell_type": "code",
   "outputs": [],
   "execution_count": null,
   "source": [
    "x = {'A':1, 'B':2} #x = {”A”:1,”B”:2}\n",
    "y = x.items() #y = an iterable object (Python 3) or\n",
    "#a list of tuples for Python 2.\n",
    "#[ (”A”:1) , (”B”:2) ]"
   ],
   "id": "12bfbec04690a0a9"
  },
  {
   "metadata": {},
   "cell_type": "code",
   "outputs": [],
   "execution_count": null,
   "source": [
    "x = {'A':1, 'B':2}\n",
    "for i in x.items():\n",
    "    print (i)"
   ],
   "id": "8df4e25c7ba71ff6"
  },
  {
   "metadata": {},
   "cell_type": "markdown",
   "source": "- We can use `items` method to sort a dictionary by value",
   "id": "9c845d840965e5de"
  },
  {
   "metadata": {
    "ExecuteTime": {
     "end_time": "2025-10-20T14:34:04.042994Z",
     "start_time": "2025-10-20T14:34:04.037589Z"
    }
   },
   "cell_type": "code",
   "source": [
    "x = {\n",
    "    \"Dacia\" : 120,\n",
    "    \"BMW\" : 160,\n",
    "    \"Toyota\" : 140\n",
    "}\n",
    "for i in sorted(x.items(),key = lambda element : element[1]):\n",
    "    print (i)"
   ],
   "id": "4ca24cbf13045999",
   "outputs": [
    {
     "name": "stdout",
     "output_type": "stream",
     "text": [
      "('Dacia', 120)\n",
      "('Toyota', 140)\n",
      "('BMW', 160)\n"
     ]
    }
   ],
   "execution_count": 9
  },
  {
   "metadata": {},
   "cell_type": "markdown",
   "source": "- `**` operator is used to mark a given parameter is a dictionary",
   "id": "805abaae9677108"
  },
  {
   "metadata": {
    "ExecuteTime": {
     "end_time": "2025-10-20T14:35:24.939836Z",
     "start_time": "2025-10-20T14:35:24.934807Z"
    }
   },
   "cell_type": "code",
   "source": [
    "def GetFastestCar(**cars):\n",
    "    min_speed = 0\n",
    "    name = None\n",
    "    for car_name in cars:\n",
    "        if cars[car_name] > min_speed:\n",
    "            name = car_name\n",
    "            min_speed = cars[car_name]\n",
    "    return name\n",
    "fastest_car = GetFastestCar(Dacia=120,BMW=160,Toyota=140)\n",
    "print (fastest_car)\n",
    "#fastest_car = ”BMW”"
   ],
   "id": "cb71de917d2872de",
   "outputs": [
    {
     "name": "stdout",
     "output_type": "stream",
     "text": [
      "BMW\n"
     ]
    }
   ],
   "execution_count": 10
  },
  {
   "metadata": {},
   "cell_type": "markdown",
   "source": "### Functions",
   "id": "d58ecfa63250a878"
  },
  {
   "metadata": {},
   "cell_type": "markdown",
   "source": "- `filter` and `del`",
   "id": "99e38c35b0637115"
  },
  {
   "metadata": {},
   "cell_type": "code",
   "outputs": [],
   "execution_count": null,
   "source": [
    "x = {\n",
    "    \"Dacia\" : 120,\n",
    "    \"BMW\" : 160,\n",
    "    \"Toyota\" : 140\n",
    "}\n",
    "y = dict(filter(lambda element : element[1]>=140,x.items()))\n",
    "#y = {”Toyota”:140, ”BMW”:160}"
   ],
   "id": "fdadb82bced450ba"
  },
  {
   "metadata": {},
   "cell_type": "markdown",
   "source": "- `enumerate` -> In case of a dictionary it returns a tuple of index and key",
   "id": "5db5064a8023b1e3"
  },
  {
   "metadata": {
    "ExecuteTime": {
     "end_time": "2025-10-20T14:37:20.729211Z",
     "start_time": "2025-10-20T14:37:20.724657Z"
    }
   },
   "cell_type": "code",
   "source": [
    "x = {\n",
    "    \"Dacia\" : 120,\n",
    "    \"BMW\" : 160,\n",
    "    \"Toyota\" : 140,\n",
    "    \"Volvo\" : 115,\n",
    "    \"Renault\" : 120,\n",
    "}\n",
    "for a in enumerate (x):\n",
    "    print (a)"
   ],
   "id": "6d3d6a53c5d23f3a",
   "outputs": [
    {
     "name": "stdout",
     "output_type": "stream",
     "text": [
      "(0, 'Dacia')\n",
      "(1, 'BMW')\n",
      "(2, 'Toyota')\n",
      "(3, 'Volvo')\n",
      "(4, 'Renault')\n"
     ]
    }
   ],
   "execution_count": 11
  }
 ],
 "metadata": {
  "kernelspec": {
   "display_name": "Python 3",
   "language": "python",
   "name": "python3"
  },
  "language_info": {
   "codemirror_mode": {
    "name": "ipython",
    "version": 2
   },
   "file_extension": ".py",
   "mimetype": "text/x-python",
   "name": "python",
   "nbconvert_exporter": "python",
   "pygments_lexer": "ipython2",
   "version": "2.7.6"
  }
 },
 "nbformat": 4,
 "nbformat_minor": 5
}
