{
 "cells": [
  {
   "cell_type": "markdown",
   "id": "abcb383beba4338c",
   "metadata": {},
   "source": [
    "# Sets and Keyed Collections"
   ]
  },
  {
   "cell_type": "markdown",
   "id": "c119eada42c5cdb8",
   "metadata": {},
   "source": [
    "## Sets"
   ]
  },
  {
   "cell_type": "markdown",
   "id": "54b3b38c5e549d6f",
   "metadata": {},
   "source": [
    "a list of unique data -> each element of the list must be distinct between 2 elements no matter data types"
   ]
  },
  {
   "cell_type": "markdown",
   "id": "c78623b7a05acfff",
   "metadata": {},
   "source": [
    "Can be declared using the keyword set or a list surrounded by {}"
   ]
  },
  {
   "cell_type": "markdown",
   "id": "da7a0d733f4e5417",
   "metadata": {},
   "source": [
    "Supports the following operations:\n",
    "- Intersection\n",
    "- Union\n",
    "- Difference\n",
    "- Symmetric Difference"
   ]
  },
  {
   "cell_type": "code",
   "execution_count": 1,
   "id": "45e25490c946d70f",
   "metadata": {
    "ExecuteTime": {
     "end_time": "2025-10-20T13:50:22.238923Z",
     "start_time": "2025-10-20T13:50:22.233599Z"
    },
    "collapsed": true,
    "jupyter": {
     "outputs_hidden": true
    }
   },
   "outputs": [
    {
     "name": "stdout",
     "output_type": "stream",
     "text": [
      "{1, 2, 3, 4, 5, 6}\n"
     ]
    }
   ],
   "source": [
    "x = set() # Empty ser\n",
    "\n",
    "x = {1, 2, 3} # elements 1, 2, 3\n",
    "x = {1, 1, 1, 2, 2, 3} # elements 1, 2, 3\n",
    "x = {1, 2, \"AB\", \"ab\"} # elements 1, 2, AB, ab\n",
    "x = set((1,2,3,2)) #x is a set containing 3 elements: 1,2 and 3\n",
    "x = set([1,2,3,2]) #x is a set containing 3 elements: 1,2 and 3\n",
    "x = set(\"Hello\") #x is a set containing 4 characters: H,e,l and o"
   ]
  },
  {
   "cell_type": "markdown",
   "id": "59fe5c5f9c9b2b82",
   "metadata": {},
   "source": [
    "Elements of a set CANNOT BE ACCESSED (Unordered collection)"
   ]
  },
  {
   "cell_type": "code",
   "execution_count": null,
   "id": "479328e4f1c987f1",
   "metadata": {},
   "outputs": [],
   "source": [
    "x = {'A', 'B', 2, 3, 'C'}\n",
    "x[0], x[1], x[1:2], = None, None, None"
   ]
  },
  {
   "cell_type": "markdown",
   "id": "cf679f392875b104",
   "metadata": {},
   "source": [
    "Additionally, there is no addition between sets"
   ]
  },
  {
   "cell_type": "code",
   "execution_count": null,
   "id": "3e46474cd9b3bccb",
   "metadata": {},
   "outputs": [],
   "source": [
    "x = {'A', 'B', 2, 3, 'C'}\n",
    "y = {'D', 'E', 1}\n",
    "z = y + x #!!!ERROR !!"
   ]
  },
  {
   "cell_type": "markdown",
   "id": "53d19d0af2fb1656",
   "metadata": {},
   "source": [
    "### Supported Set Operation"
   ]
  },
  {
   "cell_type": "markdown",
   "id": "f80217f2739059f0",
   "metadata": {},
   "source": [
    "- `add()` method"
   ]
  },
  {
   "cell_type": "code",
   "execution_count": null,
   "id": "779379cace433d8b",
   "metadata": {},
   "outputs": [],
   "source": [
    "x = {1,2,3} #x = {1, 2, 3}\n",
    "x.add(4) #x = {1, 2, 3, 4}\n",
    "x.add(1) #x = {1, 2, 3, 4}"
   ]
  },
  {
   "cell_type": "markdown",
   "id": "30f5e13b7540cff2",
   "metadata": {},
   "source": [
    "- `remove()`, `discard()`, `clear()` methods"
   ]
  },
  {
   "cell_type": "code",
   "execution_count": null,
   "id": "8d7065fd8aaf3746",
   "metadata": {},
   "outputs": [],
   "source": [
    "x = {1,2,3} #x = {1, 2, 3}\n",
    "x.remove(1) #x = {2, 3}\n",
    "x.discard(2) #x = {3}\n",
    "x.discard(2) #x = {3}\n",
    "\n",
    "x = {1,2,3} #x = {1, 2, 3}\n",
    "x.clear() #x = {}"
   ]
  },
  {
   "cell_type": "markdown",
   "id": "5495274bdc2a719",
   "metadata": {},
   "source": [
    "- Updating a set: `update()` method and operator `|=`"
   ]
  },
  {
   "cell_type": "code",
   "execution_count": null,
   "id": "1f68272ad84258d",
   "metadata": {},
   "outputs": [],
   "source": [
    "x = {1,2,3} #x = {1, 2, 3}\n",
    "x |= {3,4,5} #x = {1, 2, 3, 4, 5}\n",
    "x.update({5,6}) #x = {1, 2, 3, 4, 5, 6}\n",
    "x.update({5,6},{6,7}) #x = {1, 2, 3, 4, 5, 6, 7}\n",
    "x.update({8},{6},{9}) #x = {1, 2, 3, 4, 5, 6, 7, 8, 9}"
   ]
  },
  {
   "cell_type": "markdown",
   "id": "e3edbf40995321bb",
   "metadata": {},
   "source": [
    "### Union of sets"
   ]
  },
  {
   "cell_type": "code",
   "execution_count": null,
   "id": "33f91d20699380f0",
   "metadata": {},
   "outputs": [],
   "source": [
    "x = {1,2,3}\n",
    "y = {3,4,5}\n",
    "t = {2,4,6}\n",
    "z = x | y | t #z = {1, 2, 3, 4, 5, 6}\n",
    "s = {7,8}\n",
    "w = x.union(s) #w = {1, 2, 3, 7, 8}\n",
    "w = x.union(s, y, t) #w = {1, 2, 3, 4, 5, 6, 7, 8}"
   ]
  },
  {
   "cell_type": "markdown",
   "id": "ca25d6cf06d977d7",
   "metadata": {},
   "source": [
    "### Intersection of sets"
   ]
  },
  {
   "cell_type": "code",
   "execution_count": null,
   "id": "e187acfa2a242867",
   "metadata": {},
   "outputs": [],
   "source": [
    "x = {1,2,3,4}\n",
    "y = {2,3,4,5}\n",
    "t = {3,4,5,6}\n",
    "z = x & y & t #z = {3, 4}\n",
    "w = x.intersection(y) #w = {2, 3, 4}\n",
    "w = x.intersection(y, t)#w = {3, 4}"
   ]
  },
  {
   "cell_type": "markdown",
   "id": "f76625127a6a1935",
   "metadata": {},
   "source": [
    "### Set Difference"
   ]
  },
  {
   "cell_type": "code",
   "execution_count": null,
   "id": "8af3e40b52cf6838",
   "metadata": {},
   "outputs": [],
   "source": [
    "x = {1,2,3,4}\n",
    "y = {2,3,4,5}\n",
    "z = x - y #z = {1}\n",
    "z = y - x #z = {5}\n",
    "w = x.difference(y) #w = {1}\n",
    "s = {1,2,3}\n",
    "w = x.difference(y,s) #w = {} → empty set"
   ]
  },
  {
   "cell_type": "markdown",
   "id": "9683ef69be341876",
   "metadata": {},
   "source": [
    "### Set Symmetric Difference"
   ]
  },
  {
   "cell_type": "code",
   "execution_count": null,
   "id": "907feffb34e9ba1c",
   "metadata": {},
   "outputs": [],
   "source": [
    "x = {1,2,3,4}\n",
    "y = {2,3,4,5}\n",
    "z = x ^ y #z = {1, 5}\n",
    "z = y ^ x #z = {1, 5}\n",
    "w = x.symmetric_difference(y) #w = {1, 5}\n",
    "s = {1,2,3}\n",
    "w = x.symmetric_difference(y,s) #!!! ERROR !!!"
   ]
  },
  {
   "cell_type": "markdown",
   "id": "1a1c3e42a9ab8217",
   "metadata": {},
   "source": [
    "### Unary operation of a set"
   ]
  },
  {
   "cell_type": "markdown",
   "id": "4d3d54bd3b0f2e82",
   "metadata": {},
   "source": [
    "- Intersection\n",
    "    - intersection_update, &=\n",
    "- Difference\n",
    "    - difference_update, -=\n",
    "- Symmetric Difference\n",
    "    - symmetric_difference_update, ^=\n",
    "- Union\n",
    "    - update, |="
   ]
  },
  {
   "cell_type": "markdown",
   "id": "a301bb765917c796",
   "metadata": {},
   "source": [
    "### Sets and other collection operations"
   ]
  },
  {
   "cell_type": "markdown",
   "id": "35a5af3924c7b33d",
   "metadata": {},
   "source": [
    "- Inclusion"
   ]
  },
  {
   "cell_type": "code",
   "execution_count": null,
   "id": "b6faecdcaab15d60",
   "metadata": {},
   "outputs": [],
   "source": [
    "x = {1,2,3,4}\n",
    "y = 2 in x #y = True\n",
    "z = 5 not in x #z = True"
   ]
  },
  {
   "cell_type": "markdown",
   "id": "ca95c182203b08df",
   "metadata": {},
   "source": [
    "- Length of a set"
   ]
  },
  {
   "cell_type": "code",
   "execution_count": null,
   "id": "d1f4d7a625b32597",
   "metadata": {},
   "outputs": [],
   "source": [
    "x = {10,20,30,40}\n",
    "y = len (x) #y = 4"
   ]
  },
  {
   "cell_type": "markdown",
   "id": "894112f4e4b938d6",
   "metadata": {},
   "source": [
    "### Other operation"
   ]
  },
  {
   "cell_type": "markdown",
   "id": "64d2739e4b79a86c",
   "metadata": {},
   "source": [
    "- Disjointed Sets"
   ]
  },
  {
   "cell_type": "code",
   "execution_count": null,
   "id": "6237f4ff0cc9dd7d",
   "metadata": {},
   "outputs": [],
   "source": [
    "x = {1,2,3,4}\n",
    "y = {10,20,30,40}\n",
    "z = x.isdisjoint(y) #z = True"
   ]
  },
  {
   "cell_type": "markdown",
   "id": "341aee855111b9a4",
   "metadata": {},
   "source": [
    "- Subsets"
   ]
  },
  {
   "cell_type": "code",
   "execution_count": null,
   "id": "a0b44b42236e8ba1",
   "metadata": {},
   "outputs": [],
   "source": [
    "x = {1,2,3,4}\n",
    "y = {1,2,3,4,5,6}\n",
    "z = x.issubset(y) #z = True\n",
    "t = x <= y #t = True"
   ]
  },
  {
   "cell_type": "markdown",
   "id": "323054edd6ef4279",
   "metadata": {},
   "source": [
    "- Superset"
   ]
  },
  {
   "cell_type": "code",
   "execution_count": null,
   "id": "a3eab8fcb3abdcd1",
   "metadata": {},
   "outputs": [],
   "source": [
    "x = {1,2,3,4}\n",
    "y = {1,2,3,4,5,6}\n",
    "z = y.issuperset(x) #z = True\n",
    "t = y >= x #t = True"
   ]
  },
  {
   "cell_type": "markdown",
   "id": "befe91ad855484c8",
   "metadata": {},
   "source": [
    "Sets also support > and < operators. It shows whether a set is a subset or superset of other set. BUT NOT EXACTLY THE SAME SET"
   ]
  },
  {
   "cell_type": "code",
   "execution_count": null,
   "id": "6d85c5fa385cfc9",
   "metadata": {},
   "outputs": [],
   "source": [
    "x = {1,2,3,4}\n",
    "y = {1,2,3,4,5,6}\n",
    "t = y > x #t = True\n",
    "\n",
    "x = {1,2,3,4}\n",
    "y = {1,2,3,4}\n",
    "t = y > x #t = False"
   ]
  },
  {
   "cell_type": "markdown",
   "id": "ade6885ed0e1650e",
   "metadata": {},
   "source": [
    "- Popping an element of a set"
   ]
  },
  {
   "cell_type": "code",
   "execution_count": 5,
   "id": "6b3152fbe98e1f43",
   "metadata": {
    "ExecuteTime": {
     "end_time": "2025-10-20T14:14:11.474979Z",
     "start_time": "2025-10-20T14:14:11.470462Z"
    }
   },
   "outputs": [
    {
     "name": "stdout",
     "output_type": "stream",
     "text": [
      "{'a', 1, 2, 3, 'b', 'A', 'B'}\n",
      "a\n"
     ]
    }
   ],
   "source": [
    "x = {\"A\",\"a\",\"B\",\"b\",1,2,3}\n",
    "print (x)\n",
    "print (x.pop())"
   ]
  },
  {
   "cell_type": "markdown",
   "id": "dcc0e4dc405298ef",
   "metadata": {},
   "source": [
    "### Sets and Functional Programming"
   ]
  },
  {
   "cell_type": "code",
   "execution_count": null,
   "id": "9a0de575241946bd",
   "metadata": {},
   "outputs": [],
   "source": [
    "# set of numbers from 1 to 9\n",
    "x = {i for i in range(1,9)} #x = {1,2,3,4,5,6,7,8}\n",
    "\n",
    "# set of numbers from 1 to 99 that are divisible by 23\n",
    "x = {i for i in range(1,100) if i % 23 == 0} #x = {23, 46, 69, 92}\n",
    "\n",
    "# set of first 5 squares\n",
    "x = {i*i for i in range(1,6)} #x = {1, 4, 9, 16, 25}\n",
    "\n",
    "# set of modulos of 5 from 0 to 99\n",
    "x = {i%5 for i in range(0,100)} #x = {0, 1, 2, 3, 4}"
   ]
  },
  {
   "cell_type": "markdown",
   "id": "66e98ab2e6d0250d",
   "metadata": {},
   "source": [
    "### Sets and Built-in Functions"
   ]
  },
  {
   "cell_type": "markdown",
   "id": "90c45a87ffa488d2",
   "metadata": {},
   "source": [
    "- `map()` functions"
   ]
  },
  {
   "cell_type": "code",
   "execution_count": null,
   "id": "21b2baf710fd18ee",
   "metadata": {},
   "outputs": [],
   "source": [
    "x = {1,2,3,4,5}\n",
    "\n",
    "# set of square numbers of elements of set x\n",
    "y = set(map(lambda element: element*element,x)) #y = {1,4,9,16,25}\n",
    "\n",
    "\n",
    "x = [1,2,3]\n",
    "y = [4,5,6]\n",
    "\n",
    "# set of sum of elements from x and y\n",
    "z = set(map(lambda e1,e2: e1+e2,x,y)) #z = {5,7,9}"
   ]
  },
  {
   "cell_type": "markdown",
   "id": "145b7d72633d5d45",
   "metadata": {},
   "source": [
    "- `filter()` functions and lambda functions"
   ]
  },
  {
   "cell_type": "code",
   "execution_count": null,
   "id": "6e4f0241f2decee8",
   "metadata": {},
   "outputs": [],
   "source": [
    "x = [1,2,3,4,5]\n",
    "\n",
    "# set of even elements of set x\n",
    "y = set(filter(lambda element: element%2==0,x)) #y = {2,4}"
   ]
  },
  {
   "cell_type": "code",
   "execution_count": null,
   "id": "eeb7c15e9f08b682",
   "metadata": {},
   "outputs": [],
   "source": [
    "# set of squares of numbers from 1 to 9\n",
    "x = set(map(lambda x: x*x, range(1,10))) #x = {1, 4, 9, 16, 25, 36, 49, 64, 81}\n",
    "\n",
    "# set of numbers that are 1 in modulo 7\n",
    "x = set(filter(lambda x: x%7==1,range(1,100))) #x = {1, 8, 15, 22, 29, 36, 43, 50, 57, 64, 71, 78, 85, 92, 99}"
   ]
  },
  {
   "cell_type": "markdown",
   "id": "b934f9bda3764169",
   "metadata": {},
   "source": [
    "- Other functions include, min, max, sum, any, all, sorted, reversed"
   ]
  },
  {
   "cell_type": "markdown",
   "id": "3f61fd7a4cf90a1f",
   "metadata": {},
   "source": [
    "- Iterating a set"
   ]
  },
  {
   "cell_type": "code",
   "execution_count": 6,
   "id": "d4656972c4296ed3",
   "metadata": {
    "ExecuteTime": {
     "end_time": "2025-10-20T14:21:11.927131Z",
     "start_time": "2025-10-20T14:21:11.922437Z"
    }
   },
   "outputs": [
    {
     "name": "stdout",
     "output_type": "stream",
     "text": [
      "1\n",
      "2\n",
      "3\n",
      "4\n",
      "5\n"
     ]
    }
   ],
   "source": [
    "for i in {1,2,3,4,5}:\n",
    "    print(i)"
   ]
  },
  {
   "cell_type": "markdown",
   "id": "c391fca29a169041",
   "metadata": {},
   "source": [
    "- `frozenset()` function"
   ]
  },
  {
   "cell_type": "code",
   "execution_count": null,
   "id": "32f8fa85018c9536",
   "metadata": {},
   "outputs": [],
   "source": [
    "x = frozenset ({1,2,3})\n",
    "x.add(10) #!!!ERROR!!!"
   ]
  },
  {
   "cell_type": "markdown",
   "id": "da5299fc4c4e6943",
   "metadata": {},
   "source": [
    "## Dictionaries"
   ]
  },
  {
   "cell_type": "markdown",
   "id": "a0fe0c57df7acd6a",
   "metadata": {},
   "source": [
    "- Implementation of a hash-map in Python (key -> value) pair\n",
    "- Can be created with keyword `dict` or between {}"
   ]
  },
  {
   "cell_type": "code",
   "execution_count": 2,
   "id": "a1e1a63a0b0cf1cd",
   "metadata": {
    "ExecuteTime": {
     "end_time": "2025-10-20T13:51:12.386680Z",
     "start_time": "2025-10-20T13:51:12.381167Z"
    }
   },
   "outputs": [
    {
     "name": "stdout",
     "output_type": "stream",
     "text": [
      "{'apples': 6, 'bananas': 7, 'oranges': 7}\n"
     ]
    }
   ],
   "source": [
    "x = dict() #x is an empty dictionary\n",
    "x = {} #x is an empty dict (typeof(x)=“dict”)\n",
    "x = {\"A\":1, \"B\":2} #x is a dictionary with 2 keys\n",
    "#(“A” and “B”)\n",
    "x = dict(abc=1,aaa=2) #equivalent to x= {”abc”:1, ”aaa”:2}\n",
    "x = dict({\"abc\":1,\"aaa\":2}) #equivalent to x= {”abc”:1, ”aaa”:2}\n",
    "x = dict([(\"abc\",1) ,(\"aaa\",2)]) #equivalent to x= {”abc”:1, ”aaa”:2}\n",
    "x = dict(((\"abc\",1) ,(\"aaa\",2))) #equivalent to x= {”abc”:1, ”aaa”:2}\n",
    "x = dict(zip([\"abc\",\"aaa\"],[1,2]))#equivalent to x= {”abc”:1, ”aaa”:2}"
   ]
  },
  {
   "cell_type": "markdown",
   "id": "3442bb4b4179642d",
   "metadata": {},
   "source": [
    "- Accessing an element by index is done using []. This time, an index can be of any type"
   ]
  },
  {
   "cell_type": "code",
   "execution_count": null,
   "id": "6e88f47a64687491",
   "metadata": {},
   "outputs": [],
   "source": [
    "x = {} #x is an empty dictionary\n",
    "x['ABC'] = 2 #x is a dictionary with one key (ABC)\n",
    "y = x['ABC'] #y = 2\n",
    "y = x['test'] #!!! ERROR !!!"
   ]
  },
  {
   "cell_type": "markdown",
   "id": "255677b56274cf2d",
   "metadata": {},
   "source": [
    "- `setdefault` updating an element of dictionary"
   ]
  },
  {
   "cell_type": "code",
   "execution_count": null,
   "id": "97f41562ef5a8383",
   "metadata": {},
   "outputs": [],
   "source": [
    "x = {'A':1, 'B':2} #x = {”A”:1,”B”:2}\n",
    "y = x.setdefault('C',3) #x = {”A”:1,”B”:2,”C:3”}, y=3\n",
    "y = x.setdefault('D') #x = {”A”:1,”B”:2,”C:3”,”D”:None}, y=None\n",
    "y = x.setdefault('A') #x = {”A”:1,”B”:2,”C:3”,”D”:None}, y=1\n",
    "y = x.setdefault('B',20) #x = {”A”:1,”B”:2,”C:3”,”D”:None}, y=2"
   ]
  },
  {
   "cell_type": "markdown",
   "id": "fb2d14ab4a2cb7e8",
   "metadata": {},
   "source": [
    "- `update`"
   ]
  },
  {
   "cell_type": "code",
   "execution_count": null,
   "id": "2d9a2d2e8aa37fd",
   "metadata": {},
   "outputs": [],
   "source": [
    "x = {'A':1, 'B':2} #x = {”A”:1,”B”:2}\n",
    "x.update({'A':10}) #x = {”A”:10,”B”:2}\n",
    "x.update({'A':100,'B':5}) #x = {”A”:100,”B”:5}\n",
    "x.update({'C':3}) #x = {”A”:100,”B”:5,”C”:3}\n",
    "x.update(D=123,E=111) #x = {”A”:100,”B”:5,”C”:3,”D”:123,”E”:111}"
   ]
  },
  {
   "cell_type": "markdown",
   "id": "d56b8d9bfba5d168",
   "metadata": {},
   "source": [
    "- `del` and `clear`"
   ]
  },
  {
   "cell_type": "code",
   "execution_count": null,
   "id": "84696758a7389d88",
   "metadata": {},
   "outputs": [],
   "source": [
    "x = {'A':1, 'B':2} #x = {”A”:1,”B”:2}\n",
    "del x['A'] #x = {”B”:2}\n",
    "x.clear() #x is an empty dictionary\n",
    "del x['C'] #!!! ERROR !!! “C” is not a key in x"
   ]
  },
  {
   "cell_type": "markdown",
   "id": "3d73c7946658f0c2",
   "metadata": {},
   "source": [
    "- `copy` and `fromkeys`"
   ]
  },
  {
   "cell_type": "code",
   "execution_count": null,
   "id": "533f8e8a0e0af564",
   "metadata": {},
   "outputs": [],
   "source": [
    "x = {'A':1, 'B':2} #x={”A”:1,”B”:2}\n",
    "y = x.copy() #makes a shallow copy of x\n",
    "y['C']=3 #x={”A”:1,”B”:2},y={”A”:1,”B”:2,”C”:3}\n",
    "x = dict.fromkeys(['A','B']) #x = {”A”:None,”B”:None}\n",
    "x = dict.fromkeys(['A','B'],2)#x = {”A”:2,”B”:2}"
   ]
  },
  {
   "cell_type": "markdown",
   "id": "fefc0f895db5187c",
   "metadata": {},
   "source": [
    "- `get`"
   ]
  },
  {
   "cell_type": "code",
   "execution_count": null,
   "id": "cabcfb8399265352",
   "metadata": {},
   "outputs": [],
   "source": [
    "x = {'A':1, 'B':2} #x = {”A”:1,”B”:2}\n",
    "y = x.get('A') #y = 1\n",
    "y = x.get('C') #y = None\n",
    "y = x.get('C',123) #y = 123"
   ]
  },
  {
   "cell_type": "markdown",
   "id": "baf3435bcff6d722",
   "metadata": {},
   "source": [
    "- pop"
   ]
  },
  {
   "cell_type": "code",
   "execution_count": null,
   "id": "188961f5842ecd33",
   "metadata": {},
   "outputs": [],
   "source": [
    "x = {'A':1, 'B':2} #x={”A”:1,”B”:2}\n",
    "y = x.pop('A') #x={”B”:2}, y = 1\n",
    "y = x.pop('C',123) #x={”B”:2}, y = 123\n",
    "y = x.pop('D') #!!! ERROR !!! Key “D” does not exist\n",
    "#and no default value was provided"
   ]
  },
  {
   "cell_type": "markdown",
   "id": "52d32f28c35e4c2a",
   "metadata": {},
   "source": [
    "### Dictionaries and Functional Programming"
   ]
  },
  {
   "cell_type": "code",
   "execution_count": null,
   "id": "58d84bac78575121",
   "metadata": {},
   "outputs": [],
   "source": [
    "x = {i:i for i in range(1,9)}\n",
    "#x = {1:1,2:2,3:3,4:4,5:5,6:6,7:7,8:8}\n",
    "x = {i:chr(64+i) for i in range(1,9)}\n",
    "#x = {1:”A”,2:”B”,3:”C”,4:”D”,5:”E”,6:”F”,7:”G”,8:”H”}\n",
    "x = {i%3:i for i in range(1,9)}\n",
    "#x = {0:6,1:7,2:8} → last values that were updated\n",
    "x = {i:chr(64+i) for i in range(1,9) if i%2==0}\n",
    "#x = {2:”B”, 4:”D”, 6:”F”, 8:”H”}\n",
    "x = {i%3:chr(64+i) for i in range(1,9) if i<7}\n",
    "#x = {1:”D”, 2:”E”, 0:”F”}"
   ]
  },
  {
   "cell_type": "markdown",
   "id": "9b2237898e9dc816",
   "metadata": {},
   "source": [
    "- Getting the key of a dictionary: `keys`"
   ]
  },
  {
   "cell_type": "code",
   "execution_count": null,
   "id": "bd35d67d53276d0b",
   "metadata": {},
   "outputs": [],
   "source": [
    "x = {'A':1, 'B':2} #x = {”A”:1,”B”:2}\n",
    "y = x.keys() #y = [”A”,”B”] → an iterable object"
   ]
  },
  {
   "cell_type": "markdown",
   "id": "ae59e3cc2bdef8fd",
   "metadata": {},
   "source": [
    "- Iterating through a dictionary, keys only"
   ]
  },
  {
   "cell_type": "code",
   "execution_count": 7,
   "id": "d351283d1fb76bf",
   "metadata": {
    "ExecuteTime": {
     "end_time": "2025-10-20T14:30:22.043627Z",
     "start_time": "2025-10-20T14:30:22.039389Z"
    }
   },
   "outputs": [
    {
     "name": "stdout",
     "output_type": "stream",
     "text": [
      "A\n",
      "B\n"
     ]
    }
   ],
   "source": [
    "x = {'A':1, 'B':2}\n",
    "for i in x:\n",
    "    print (i)"
   ]
  },
  {
   "cell_type": "code",
   "execution_count": 8,
   "id": "9a2ff5b5ca9e0be8",
   "metadata": {
    "ExecuteTime": {
     "end_time": "2025-10-20T14:30:54.625974Z",
     "start_time": "2025-10-20T14:30:54.621861Z"
    }
   },
   "outputs": [
    {
     "name": "stdout",
     "output_type": "stream",
     "text": [
      "A\n",
      "B\n"
     ]
    }
   ],
   "source": [
    "x = {'A':1, 'B':2}\n",
    "for i in x.keys():\n",
    "    print (i)"
   ]
  },
  {
   "cell_type": "markdown",
   "id": "235946629cfb545d",
   "metadata": {},
   "source": [
    "- To get the value for each entry: `values`"
   ]
  },
  {
   "cell_type": "code",
   "execution_count": null,
   "id": "4a28df8e86857e34",
   "metadata": {},
   "outputs": [],
   "source": [
    "x = {'A':1, 'B':2} #x = {”A”:1,”B”:2}\n",
    "y = x.values() #y = [”1”,”2”] → an iterable object"
   ]
  },
  {
   "cell_type": "code",
   "execution_count": null,
   "id": "a245b123ab12f7f8",
   "metadata": {},
   "outputs": [],
   "source": [
    "x = {'A':1, 'B':2}\n",
    "for i in x.values():\n",
    "    print (i)"
   ]
  },
  {
   "cell_type": "markdown",
   "id": "a7304159dde8a718",
   "metadata": {},
   "source": [
    "- `item` -> returns a tuple of key and value"
   ]
  },
  {
   "cell_type": "code",
   "execution_count": null,
   "id": "12bfbec04690a0a9",
   "metadata": {},
   "outputs": [],
   "source": [
    "x = {'A':1, 'B':2} #x = {”A”:1,”B”:2}\n",
    "y = x.items() #y = an iterable object (Python 3) or\n",
    "#a list of tuples for Python 2.\n",
    "#[ (”A”:1) , (”B”:2) ]"
   ]
  },
  {
   "cell_type": "code",
   "execution_count": null,
   "id": "8df4e25c7ba71ff6",
   "metadata": {},
   "outputs": [],
   "source": [
    "x = {'A':1, 'B':2}\n",
    "for i in x.items():\n",
    "    print (i)"
   ]
  },
  {
   "cell_type": "markdown",
   "id": "9c845d840965e5de",
   "metadata": {},
   "source": [
    "- We can use `items` method to sort a dictionary by value"
   ]
  },
  {
   "cell_type": "code",
   "execution_count": 9,
   "id": "4ca24cbf13045999",
   "metadata": {
    "ExecuteTime": {
     "end_time": "2025-10-20T14:34:04.042994Z",
     "start_time": "2025-10-20T14:34:04.037589Z"
    }
   },
   "outputs": [
    {
     "name": "stdout",
     "output_type": "stream",
     "text": [
      "('Dacia', 120)\n",
      "('Toyota', 140)\n",
      "('BMW', 160)\n"
     ]
    }
   ],
   "source": [
    "x = {\n",
    "    \"Dacia\" : 120,\n",
    "    \"BMW\" : 160,\n",
    "    \"Toyota\" : 140\n",
    "}\n",
    "for i in sorted(x.items(),key = lambda element : element[1]):\n",
    "    print (i)"
   ]
  },
  {
   "cell_type": "markdown",
   "id": "805abaae9677108",
   "metadata": {},
   "source": [
    "- `**` operator is used to mark a given parameter is a dictionary"
   ]
  },
  {
   "cell_type": "code",
   "execution_count": 10,
   "id": "cb71de917d2872de",
   "metadata": {
    "ExecuteTime": {
     "end_time": "2025-10-20T14:35:24.939836Z",
     "start_time": "2025-10-20T14:35:24.934807Z"
    }
   },
   "outputs": [
    {
     "name": "stdout",
     "output_type": "stream",
     "text": [
      "BMW\n"
     ]
    }
   ],
   "source": [
    "def GetFastestCar(**cars):\n",
    "    min_speed = 0\n",
    "    name = None\n",
    "    for car_name in cars:\n",
    "        if cars[car_name] > min_speed:\n",
    "            name = car_name\n",
    "            min_speed = cars[car_name]\n",
    "    return name\n",
    "fastest_car = GetFastestCar(Dacia=120,BMW=160,Toyota=140)\n",
    "print (fastest_car)\n",
    "#fastest_car = ”BMW”"
   ]
  },
  {
   "cell_type": "markdown",
   "id": "d58ecfa63250a878",
   "metadata": {},
   "source": [
    "### Functions"
   ]
  },
  {
   "cell_type": "markdown",
   "id": "99e38c35b0637115",
   "metadata": {},
   "source": [
    "- `filter` and `del`"
   ]
  },
  {
   "cell_type": "code",
   "execution_count": null,
   "id": "fdadb82bced450ba",
   "metadata": {},
   "outputs": [],
   "source": [
    "x = {\n",
    "    \"Dacia\" : 120,\n",
    "    \"BMW\" : 160,\n",
    "    \"Toyota\" : 140\n",
    "}\n",
    "y = dict(filter(lambda element : element[1]>=140,x.items()))\n",
    "#y = {”Toyota”:140, ”BMW”:160}"
   ]
  },
  {
   "cell_type": "markdown",
   "id": "5db5064a8023b1e3",
   "metadata": {},
   "source": [
    "- `enumerate` -> In case of a dictionary it returns a tuple of index and key"
   ]
  },
  {
   "cell_type": "code",
   "execution_count": 11,
   "id": "6d3d6a53c5d23f3a",
   "metadata": {
    "ExecuteTime": {
     "end_time": "2025-10-20T14:37:20.729211Z",
     "start_time": "2025-10-20T14:37:20.724657Z"
    }
   },
   "outputs": [
    {
     "name": "stdout",
     "output_type": "stream",
     "text": [
      "(0, 'Dacia')\n",
      "(1, 'BMW')\n",
      "(2, 'Toyota')\n",
      "(3, 'Volvo')\n",
      "(4, 'Renault')\n"
     ]
    }
   ],
   "source": [
    "x = {\n",
    "    \"Dacia\" : 120,\n",
    "    \"BMW\" : 160,\n",
    "    \"Toyota\" : 140,\n",
    "    \"Volvo\" : 115,\n",
    "    \"Renault\" : 120,\n",
    "}\n",
    "for a in enumerate (x):\n",
    "    print (a)"
   ]
  }
 ],
 "metadata": {
  "kernelspec": {
   "display_name": "Python 3 (ipykernel)",
   "language": "python",
   "name": "python3"
  },
  "language_info": {
   "codemirror_mode": {
    "name": "ipython",
    "version": 3
   },
   "file_extension": ".py",
   "mimetype": "text/x-python",
   "name": "python",
   "nbconvert_exporter": "python",
   "pygments_lexer": "ipython3",
   "version": "3.13.7"
  }
 },
 "nbformat": 4,
 "nbformat_minor": 5
}
