{
 "cells": [
  {
   "metadata": {},
   "cell_type": "markdown",
   "source": "# PYTHON SEQUENCES",
   "id": "598c237aebbdaffe"
  },
  {
   "metadata": {},
   "cell_type": "markdown",
   "source": [
    "# Lambda Functions\n",
    "\n",
    "- Function with no name\n",
    "- Implementing closures"
   ],
   "id": "675d9676fde1e0ea"
  },
  {
   "metadata": {},
   "cell_type": "code",
   "source": "lambda x : x+3",
   "id": "131e026492d80406",
   "outputs": [],
   "execution_count": null
  },
  {
   "metadata": {},
   "cell_type": "code",
   "source": [
    "def add(a,b):\n",
    "    return a+b"
   ],
   "id": "be3005cd03eddc0e",
   "outputs": [],
   "execution_count": null
  },
  {
   "metadata": {},
   "cell_type": "code",
   "source": "x = lambda a, b : a+b",
   "id": "ae22e654ce9d8df9",
   "outputs": [],
   "execution_count": null
  },
  {
   "metadata": {},
   "cell_type": "markdown",
   "source": [
    "- Bind in runtime\n",
    "- Dynamic generated"
   ],
   "id": "bba141d60518beb1"
  },
  {
   "metadata": {},
   "cell_type": "markdown",
   "source": [
    "# Sequences\n",
    "- Elements that represents an array/vector of elements with different types:\n",
    "- We have the following:\n",
    "-   Lists:\n",
    "-   Tuples: (Immutable list: cannot add, delete, insert, update elements)"
   ],
   "id": "550f46ba254319a2"
  },
  {
   "metadata": {},
   "cell_type": "code",
   "source": [
    "x = []\n",
    "y = ()\n",
    "\n",
    "x = [10, 20, \"test\"]\n",
    "y = (10, 20, \"test\")"
   ],
   "id": "eaa0fdd11ac19687",
   "outputs": [],
   "execution_count": null
  },
  {
   "metadata": {},
   "cell_type": "markdown",
   "source": "# Indexes",
   "id": "3130233bbe34b0c4"
  },
  {
   "metadata": {},
   "cell_type": "code",
   "source": [
    "x = [1, 2, 3, 4, 5]\n",
    "y = (1, 2, 3, 4, 5)\n",
    "x[0]\n",
    "x[1]\n",
    "x[:3]"
   ],
   "id": "c116a293f7b45b3",
   "outputs": [],
   "execution_count": null
  },
  {
   "metadata": {},
   "cell_type": "markdown",
   "source": [
    "- `tuple()` and `list()` allow to convert between each-oder\n",
    "- Both tuples and lists add each-other\n",
    "- You can return a tuple"
   ],
   "id": "ee9490671ef400d2"
  },
  {
   "metadata": {},
   "cell_type": "code",
   "source": [
    "def sum_and_prod(*list_of_nr):\n",
    "    s=0\n",
    "    p=1\n",
    "    for n in list_of_nr:\n",
    "        p*=n\n",
    "        s+=n\n",
    "    return (s, p)\n",
    "sum, prod = sum_and_prod(1, 2, 3, 4, 5)\n",
    "\n",
    "print(sum, prod)"
   ],
   "id": "20d2a7dae330e6ab",
   "outputs": [],
   "execution_count": null
  },
  {
   "metadata": {},
   "cell_type": "markdown",
   "source": "- We can organize lists and tuples as matrix",
   "id": "456bed36cad84bc"
  },
  {
   "metadata": {},
   "cell_type": "code",
   "source": [
    "x = [[1,2,3], [4, 5, 6]]\n",
    "y = ((1, 2,3), [4, 5,6], ((12345, 234243,221), [1])) # yes I'm allowed to do this"
   ],
   "id": "ccadf506b36928ab",
   "outputs": [],
   "execution_count": null
  },
  {
   "metadata": {},
   "cell_type": "markdown",
   "source": [
    "- We can iterate lists and tuples in a for loop\n",
    "- For iterating through index remember to use `range(start, end, steps)`\n",
    "\n",
    "- `enumerate()` returns the value and index of an element of a list"
   ],
   "id": "7d61b726c4981f9c"
  },
  {
   "metadata": {},
   "cell_type": "code",
   "source": [
    "for index, nr in enumerate([1, 2, 3, 4, 5], 2):\n",
    "    print(\"Index %d => %d\" %(index, nr))"
   ],
   "id": "6f80a5933844bafd",
   "outputs": [],
   "execution_count": null
  },
  {
   "metadata": {},
   "cell_type": "markdown",
   "source": "- A list can be build via functional programing",
   "id": "b824616296dab882"
  },
  {
   "metadata": {},
   "cell_type": "code",
   "source": [
    "x = [i for i in range(1,10)]\n",
    "y = [j for j in range(1,100) if j%23==0]\n",
    "z = [i*i for i in range(1,6)]\n",
    "\n",
    "t = [[x, y] for x in range(1,10) for y in range(1,10) if (x+y)%7==0]"
   ],
   "id": "f87ea1c4b6d7ddea",
   "outputs": [],
   "execution_count": null
  },
  {
   "metadata": {},
   "cell_type": "markdown",
   "source": "### 1 line code to return a list of prime numbers",
   "id": "2a604abaa964dac9"
  },
  {
   "metadata": {},
   "cell_type": "code",
   "source": "x = [x for x in range(1,100) if len(list([y for y in range(2, x//2+1) if x%y==0])) == 0]",
   "id": "18eebdfe483d361",
   "outputs": [],
   "execution_count": null
  },
  {
   "metadata": {},
   "cell_type": "markdown",
   "source": "# Operations",
   "id": "5427c9f295aa6178"
  },
  {
   "metadata": {},
   "cell_type": "markdown",
   "source": "### appending",
   "id": "152c51150cd8edcb"
  },
  {
   "metadata": {},
   "cell_type": "code",
   "source": [
    "x = [1, 2, 3]\n",
    "x.append(4)\n",
    "x += 5"
   ],
   "id": "88eef7c2ebc7dd74",
   "outputs": [],
   "execution_count": null
  },
  {
   "metadata": {},
   "cell_type": "markdown",
   "source": "### Insertion",
   "id": "e020de5e5beb9c1f"
  },
  {
   "metadata": {},
   "cell_type": "code",
   "source": [
    "x = [1, 2, 3]\n",
    "x.insert(1, \"A\")"
   ],
   "id": "50427485a673edd1",
   "outputs": [],
   "execution_count": null
  },
  {
   "metadata": {},
   "cell_type": "markdown",
   "source": "### deletion",
   "id": "e020ff9a583c299c"
  },
  {
   "metadata": {},
   "cell_type": "code",
   "source": [
    "x = [1, 2, 3]\n",
    "\n",
    "x.remove(1)"
   ],
   "id": "f116f786da9e061e",
   "outputs": [],
   "execution_count": null
  },
  {
   "metadata": {},
   "cell_type": "code",
   "source": [
    "x = [1, 2, 3, 4, 5]\n",
    "\n",
    "del x[2]"
   ],
   "id": "e602a8d39e8447ca",
   "outputs": [],
   "execution_count": null
  },
  {
   "metadata": {},
   "cell_type": "code",
   "source": [
    "x = [1, 2, 3, 4, 5]\n",
    "x.pop(2)\n",
    "x.pop()"
   ],
   "id": "ec3c5cde537d09ee",
   "outputs": [],
   "execution_count": null
  },
  {
   "metadata": {},
   "cell_type": "code",
   "source": [
    "del x[:]\n",
    "x.clear()"
   ],
   "id": "d6de65c77d27b0b",
   "outputs": [],
   "execution_count": null
  },
  {
   "metadata": {},
   "cell_type": "markdown",
   "source": [
    "= doesn't create a copy, the variable is a reference to a list\n",
    "\n",
    "To create a copy use `list()`"
   ],
   "id": "d92cb6ea33d8f8d2"
  },
  {
   "metadata": {},
   "cell_type": "code",
   "source": "x.copy()",
   "id": "6b59247633c4f1df",
   "outputs": [],
   "execution_count": null
  },
  {
   "metadata": {},
   "cell_type": "markdown",
   "source": "### Index",
   "id": "7349c62b5b9e3a09"
  },
  {
   "metadata": {},
   "cell_type": "code",
   "source": [
    "x = [1, 2, 3, 4]\n",
    "x.index(1)"
   ],
   "id": "a3b9e76ffbd92da2",
   "outputs": [],
   "execution_count": null
  },
  {
   "metadata": {},
   "cell_type": "markdown",
   "source": "### Counting",
   "id": "8a8b3247ce998195"
  },
  {
   "metadata": {},
   "cell_type": "code",
   "source": "x.count(1)",
   "id": "66f0c207e544a69e",
   "outputs": [],
   "execution_count": null
  },
  {
   "metadata": {},
   "cell_type": "markdown",
   "source": "# Reverse",
   "id": "6eb4789458124c55"
  },
  {
   "metadata": {},
   "cell_type": "code",
   "source": "x.reverse()",
   "id": "c48b203b2a7ff653",
   "outputs": [],
   "execution_count": null
  },
  {
   "metadata": {},
   "cell_type": "markdown",
   "source": "### Sorting",
   "id": "80f631dc85731bc0"
  },
  {
   "metadata": {},
   "cell_type": "code",
   "source": "x.sort(None, True)",
   "id": "1cd1329222ea49c0",
   "outputs": [],
   "execution_count": null
  },
  {
   "metadata": {},
   "cell_type": "markdown",
   "source": "- Key sorting (Enter the lambda function)",
   "id": "9b93af93a3589234"
  },
  {
   "metadata": {},
   "cell_type": "code",
   "source": [
    "x = [1, 2, 3, 4, 5]\n",
    "\n",
    "x.sort()\n",
    "x.sort(reverse=True)\n",
    "x.sort(key=lambda x:x%3, reverse=True)"
   ],
   "id": "e912d61639dae4ee",
   "outputs": [],
   "execution_count": null
  },
  {
   "metadata": {},
   "cell_type": "markdown",
   "source": [
    "### Mapping\n",
    "\n",
    "- `map()`"
   ],
   "id": "11142accbf3363fc"
  },
  {
   "metadata": {},
   "cell_type": "code",
   "source": [
    "x = [1, 2, 3, 4, 5]\n",
    "y = list(map(lambda x: x**2, x))"
   ],
   "id": "87fb6287ba46fa78",
   "outputs": [],
   "execution_count": null
  },
  {
   "metadata": {},
   "cell_type": "markdown",
   "source": [
    "### Filter\n",
    "- `filter()`"
   ],
   "id": "6afc8201ae8aa6d5"
  },
  {
   "metadata": {},
   "cell_type": "code",
   "source": [
    "x = [1,2,3,4,5]\n",
    "y = list(filter(lambda x: x%2==0, x))"
   ],
   "id": "ca94e9457634154e",
   "outputs": [],
   "execution_count": null
  },
  {
   "metadata": {},
   "cell_type": "markdown",
   "source": [
    "- Min and Max: `min()`, `max()`\n",
    "- sum: `sum()`\n",
    "- sorted: `sorted()`\n",
    "- reversed: `reversed()`"
   ],
   "id": "58408e9d7be4622f"
  },
  {
   "metadata": {},
   "cell_type": "markdown",
   "source": [
    "- Any: `any()`\n",
    "- All: `all()`"
   ],
   "id": "2bd2e1f70bb5e478"
  }
 ],
 "metadata": {
  "kernelspec": {
   "display_name": "Python 3",
   "language": "python",
   "name": "python3"
  },
  "language_info": {
   "codemirror_mode": {
    "name": "ipython",
    "version": 2
   },
   "file_extension": ".py",
   "mimetype": "text/x-python",
   "name": "python",
   "nbconvert_exporter": "python",
   "pygments_lexer": "ipython2",
   "version": "2.7.6"
  }
 },
 "nbformat": 4,
 "nbformat_minor": 5
}
