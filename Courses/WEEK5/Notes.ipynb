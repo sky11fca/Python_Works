{
 "cells": [
  {
   "metadata": {},
   "cell_type": "markdown",
   "source": "# Python Exceptions and Modules",
   "id": "81a538c4a7cfbe4a"
  },
  {
   "metadata": {},
   "cell_type": "markdown",
   "source": "## Exceptions",
   "id": "6c064f834ff1710f"
  },
  {
   "metadata": {},
   "cell_type": "markdown",
   "source": "**Syntax**",
   "id": "85351bbb8f3191b3"
  },
  {
   "metadata": {},
   "cell_type": "code",
   "outputs": [],
   "execution_count": null,
   "source": [
    "try:\n",
    "    #code\n",
    "except:\n",
    "    #more code"
   ],
   "id": "8dc2967f489179ad"
  },
  {
   "metadata": {
    "ExecuteTime": {
     "end_time": "2025-10-27T12:43:29.041094Z",
     "start_time": "2025-10-27T12:43:29.037902Z"
    }
   },
   "cell_type": "code",
   "source": [
    "try:\n",
    "    x=5/0\n",
    "except:\n",
    "    print(\"An error occurred\")"
   ],
   "id": "9efe08ea3515cac1",
   "outputs": [
    {
     "name": "stdout",
     "output_type": "stream",
     "text": [
      "An error occurred\n"
     ]
    }
   ],
   "execution_count": 1
  },
  {
   "metadata": {},
   "cell_type": "markdown",
   "source": "They also have else block",
   "id": "c5443926385f06b6"
  },
  {
   "metadata": {
    "ExecuteTime": {
     "end_time": "2025-10-27T12:44:17.950422Z",
     "start_time": "2025-10-27T12:44:17.947214Z"
    }
   },
   "cell_type": "code",
   "source": [
    "try:\n",
    "    x = 5 / 1\n",
    "except:\n",
    "    print(\"Exception\")\n",
    "else:\n",
    "    print(\"All ok\")"
   ],
   "id": "66f57f08d7b1fe34",
   "outputs": [
    {
     "name": "stdout",
     "output_type": "stream",
     "text": [
      "All ok\n"
     ]
    }
   ],
   "execution_count": 2
  },
  {
   "metadata": {},
   "cell_type": "markdown",
   "source": [
    "### List of possible exceptions\n",
    "- ArithmeticError\n",
    "- BufferError\n",
    "- AttributeError\n",
    "- FloatingPointError\n",
    "- IndexError\n",
    "- KeyboardInterrupt\n",
    "- NotImplementedError\n",
    "- OverflowError\n",
    "- IndentationError\n",
    "- etc..."
   ],
   "id": "932c14da6aecd027"
  },
  {
   "metadata": {},
   "cell_type": "markdown",
   "source": "### Examples of declaring exceptions:",
   "id": "b40e8f9578f2c761"
  },
  {
   "metadata": {},
   "cell_type": "markdown",
   "source": [
    "```\n",
    "try:\n",
    "    #code\n",
    "except ExceptionType1:\n",
    "    #code for exception of type 1\n",
    "except ExceptionType2:\n",
    "    #code for exception of type 1\n",
    "except:\n",
    "    #code for general exception\n",
    "else:\n",
    "    #code that will be executed if\n",
    "    #there is no exception\n",
    "\n",
    "```"
   ],
   "id": "4d5ef7c40747e9ae"
  },
  {
   "metadata": {
    "ExecuteTime": {
     "end_time": "2025-10-27T12:47:05.706257Z",
     "start_time": "2025-10-27T12:47:05.702835Z"
    }
   },
   "cell_type": "code",
   "source": [
    "def Test (y):\n",
    "    try:\n",
    "        x = 5 / y\n",
    "    except ArithmeticError:\n",
    "        print(\"ArithmeticError\")\n",
    "    except:\n",
    "        print(\"Generic exception\")\n",
    "    else:\n",
    "        print(\"All ok\")\n",
    "\n",
    "Test(0)\n",
    "Test(\"aaa\")\n",
    "Test(1)"
   ],
   "id": "674e7f111c053759",
   "outputs": [
    {
     "name": "stdout",
     "output_type": "stream",
     "text": [
      "ArithmeticError\n",
      "Generic exception\n",
      "All ok\n"
     ]
    }
   ],
   "execution_count": 3
  },
  {
   "metadata": {},
   "cell_type": "markdown",
   "source": "Best Practice is to put the generic `except:` section last",
   "id": "a85ec0a4aaee5fa8"
  },
  {
   "metadata": {},
   "cell_type": "code",
   "outputs": [],
   "execution_count": null,
   "source": [
    "def Test (y):\n",
    "    try:\n",
    "        x = 5 / y\n",
    "    except:\n",
    "        print(\"Generic exception\")\n",
    "    except ArithmeticError:\n",
    "        print(\"ArithmeticError\")\n",
    "    else:\n",
    "        print(\"All ok\")\n",
    "\n",
    "Test(0)\n",
    "Test(\"aaa\")\n",
    "Test(1)"
   ],
   "id": "1b6b5883033e1b32"
  },
  {
   "metadata": {},
   "cell_type": "markdown",
   "source": "They also have `finally` block",
   "id": "1bdde63f9eb33f38"
  },
  {
   "metadata": {
    "ExecuteTime": {
     "end_time": "2025-10-27T12:49:08.112748Z",
     "start_time": "2025-10-27T12:49:08.109633Z"
    }
   },
   "cell_type": "code",
   "source": [
    "def Test (y):\n",
    "    try:\n",
    "        x = 5 / y\n",
    "    except:\n",
    "        print(\"Error\")\n",
    "    else:\n",
    "        print(\"All ok\")\n",
    "    finally:\n",
    "        print(\"Final\")\n",
    "\n",
    "Test(0)\n",
    "Test(1)"
   ],
   "id": "2a945353418c9a27",
   "outputs": [
    {
     "name": "stdout",
     "output_type": "stream",
     "text": [
      "Error\n",
      "Final\n",
      "All ok\n",
      "Final\n"
     ]
    }
   ],
   "execution_count": 4
  },
  {
   "metadata": {},
   "cell_type": "markdown",
   "source": "Best practice is to put the `finally` block after `else` block",
   "id": "1a6a3158640e72a0"
  },
  {
   "metadata": {},
   "cell_type": "code",
   "outputs": [],
   "execution_count": null,
   "source": [
    "def Test (y):\n",
    "    try:\n",
    "        x = 5 / y\n",
    "    except:\n",
    "        print(\"Error\")\n",
    "    finally:\n",
    "        print(\"Final\")\n",
    "    else:\n",
    "        print(\"All ok\")\n",
    "\n",
    "Test(0)\n",
    "Test(1)"
   ],
   "id": "7300446e8bd3f5e0"
  },
  {
   "metadata": {},
   "cell_type": "markdown",
   "source": "We can group multiple exception type in one block",
   "id": "ce9a374602faed4c"
  },
  {
   "metadata": {
    "ExecuteTime": {
     "end_time": "2025-10-27T12:53:53.445641Z",
     "start_time": "2025-10-27T12:53:53.442311Z"
    }
   },
   "cell_type": "code",
   "outputs": [
    {
     "name": "stdout",
     "output_type": "stream",
     "text": [
      "ArithmeticError\n",
      "ArithmeticError\n",
      "All ok\n"
     ]
    }
   ],
   "execution_count": 5,
   "source": [
    "def Test (y):\n",
    "    try:\n",
    "        x = 5 / y\n",
    "    except (ArithmeticError,TypeError):\n",
    "        print(\"ArithmeticError\")\n",
    "    except:\n",
    "        print(\"Generic exception\")\n",
    "    else:\n",
    "        print(\"All ok\")\n",
    "\n",
    "Test(0)\n",
    "Test(\"aaa\")\n",
    "Test(1)"
   ],
   "id": "56b8922d3b8c5d15"
  },
  {
   "metadata": {},
   "cell_type": "markdown",
   "source": "We can declare variable as exception",
   "id": "d3e72ef6e2a8995b"
  },
  {
   "metadata": {
    "ExecuteTime": {
     "end_time": "2025-10-27T12:54:57.370369Z",
     "start_time": "2025-10-27T12:54:57.367601Z"
    }
   },
   "cell_type": "code",
   "source": [
    "try:\n",
    "    x = 5 / 0\n",
    "except Exception as e:\n",
    "    print( str(e) )"
   ],
   "id": "7ab4937bb3f1da82",
   "outputs": [
    {
     "name": "stdout",
     "output_type": "stream",
     "text": [
      "division by zero\n"
     ]
    }
   ],
   "execution_count": 6
  },
  {
   "metadata": {
    "ExecuteTime": {
     "end_time": "2025-10-27T12:55:23.143327Z",
     "start_time": "2025-10-27T12:55:23.140565Z"
    }
   },
   "cell_type": "code",
   "source": [
    "try:\n",
    "    x = 5 / 0\n",
    "except (Exception,ArithmeticError,TypeError) as e:\n",
    "    print( str(e), type(e) )"
   ],
   "id": "1d59b51ed82dbad1",
   "outputs": [
    {
     "name": "stdout",
     "output_type": "stream",
     "text": [
      "division by zero <class 'ZeroDivisionError'>\n"
     ]
    }
   ],
   "execution_count": 7
  },
  {
   "metadata": {},
   "cell_type": "markdown",
   "source": "To throw an exception, the `raise` keyword is used",
   "id": "27e9339e4f7cd6ae"
  },
  {
   "metadata": {
    "ExecuteTime": {
     "end_time": "2025-10-27T12:56:05.374016Z",
     "start_time": "2025-10-27T12:56:05.371042Z"
    }
   },
   "cell_type": "code",
   "source": [
    "try:\n",
    "    raise Exception(\"Testing raise command\")\n",
    "except Exception as e:\n",
    "    print(e)"
   ],
   "id": "566686d019e3ce11",
   "outputs": [
    {
     "name": "stdout",
     "output_type": "stream",
     "text": [
      "Testing raise command\n"
     ]
    }
   ],
   "execution_count": 8
  },
  {
   "metadata": {},
   "cell_type": "markdown",
   "source": "You can put multiple parameters when raising an exception",
   "id": "f927abeaf7496264"
  },
  {
   "metadata": {
    "ExecuteTime": {
     "end_time": "2025-10-27T12:57:05.581184Z",
     "start_time": "2025-10-27T12:57:05.578357Z"
    }
   },
   "cell_type": "code",
   "source": [
    "try:\n",
    "    raise Exception(\"Param1\",10,\"Param3\")\n",
    "except Exception as e:\n",
    "    params = e.args\n",
    "    print (len(params))\n",
    "    print (params[0])"
   ],
   "id": "2d3605a31afae504",
   "outputs": [
    {
     "name": "stdout",
     "output_type": "stream",
     "text": [
      "3\n",
      "Param1\n"
     ]
    }
   ],
   "execution_count": 9
  },
  {
   "metadata": {},
   "cell_type": "markdown",
   "source": "You can not declare any parameter, this will cause to re-raise for current expression",
   "id": "77464ad0083daaf7"
  },
  {
   "metadata": {
    "ExecuteTime": {
     "end_time": "2025-10-27T12:58:47.146866Z",
     "start_time": "2025-10-27T12:58:47.143866Z"
    }
   },
   "cell_type": "code",
   "source": [
    "try:\n",
    "    try:\n",
    "        x = 5 / 0\n",
    "    except Exception as e:\n",
    "        print(e)\n",
    "        raise\n",
    "except Exception as e:\n",
    "    print(\"Return from raise -> \",e)"
   ],
   "id": "adeaa586bf8f6872",
   "outputs": [
    {
     "name": "stdout",
     "output_type": "stream",
     "text": [
      "division by zero\n",
      "Return from raise ->  division by zero\n"
     ]
    }
   ],
   "execution_count": 10
  },
  {
   "metadata": {},
   "cell_type": "markdown",
   "source": " exception chaining: `from`",
   "id": "b9e8d129f081edc5"
  },
  {
   "metadata": {
    "ExecuteTime": {
     "end_time": "2025-10-27T12:59:32.761431Z",
     "start_time": "2025-10-27T12:59:32.625323Z"
    }
   },
   "cell_type": "code",
   "source": [
    "try:\n",
    "    x = 5 / 0\n",
    "except Exception as e:\n",
    "    raise Exception(\"Error\") from e"
   ],
   "id": "900caf292380ee23",
   "outputs": [
    {
     "ename": "Exception",
     "evalue": "Error",
     "output_type": "error",
     "traceback": [
      "\u001B[31m---------------------------------------------------------------------------\u001B[39m",
      "\u001B[31mZeroDivisionError\u001B[39m                         Traceback (most recent call last)",
      "\u001B[36mCell\u001B[39m\u001B[36m \u001B[39m\u001B[32mIn[11]\u001B[39m\u001B[32m, line 2\u001B[39m\n\u001B[32m      1\u001B[39m \u001B[38;5;28;01mtry\u001B[39;00m:\n\u001B[32m----> \u001B[39m\u001B[32m2\u001B[39m     x = \u001B[32;43m5\u001B[39;49m\u001B[43m \u001B[49m\u001B[43m/\u001B[49m\u001B[43m \u001B[49m\u001B[32;43m0\u001B[39;49m\n\u001B[32m      3\u001B[39m \u001B[38;5;28;01mexcept\u001B[39;00m \u001B[38;5;167;01mException\u001B[39;00m \u001B[38;5;28;01mas\u001B[39;00m e:\n",
      "\u001B[31mZeroDivisionError\u001B[39m: division by zero",
      "\nThe above exception was the direct cause of the following exception:\n",
      "\u001B[31mException\u001B[39m                                 Traceback (most recent call last)",
      "\u001B[36mCell\u001B[39m\u001B[36m \u001B[39m\u001B[32mIn[11]\u001B[39m\u001B[32m, line 4\u001B[39m\n\u001B[32m      2\u001B[39m     x = \u001B[32m5\u001B[39m / \u001B[32m0\u001B[39m\n\u001B[32m      3\u001B[39m \u001B[38;5;28;01mexcept\u001B[39;00m \u001B[38;5;167;01mException\u001B[39;00m \u001B[38;5;28;01mas\u001B[39;00m e:\n\u001B[32m----> \u001B[39m\u001B[32m4\u001B[39m     \u001B[38;5;28;01mraise\u001B[39;00m \u001B[38;5;167;01mException\u001B[39;00m(\u001B[33m\"\u001B[39m\u001B[33mError\u001B[39m\u001B[33m\"\u001B[39m) \u001B[38;5;28;01mfrom\u001B[39;00m\u001B[38;5;250m \u001B[39m\u001B[34;01me\u001B[39;00m\n",
      "\u001B[31mException\u001B[39m: Error"
     ]
    }
   ],
   "execution_count": 11
  },
  {
   "metadata": {},
   "cell_type": "markdown",
   "source": "For exception throwing based of a condition, the `assert` keyword is used",
   "id": "ddfc022ca560a643"
  },
  {
   "metadata": {
    "ExecuteTime": {
     "end_time": "2025-10-27T13:00:36.474657Z",
     "start_time": "2025-10-27T13:00:36.472305Z"
    }
   },
   "cell_type": "code",
   "source": [
    "age = -1\n",
    "try:\n",
    "    assert (age>0),\"Age should be a positive number\"\n",
    "except Exception as e:\n",
    "    print (e)"
   ],
   "id": "cfb87c3311a930e8",
   "outputs": [
    {
     "name": "stdout",
     "output_type": "stream",
     "text": [
      "Age should be a positive number\n"
     ]
    }
   ],
   "execution_count": 12
  },
  {
   "metadata": {},
   "cell_type": "markdown",
   "source": "To catch an exception but don't want to process it, the `pass` keyword is used",
   "id": "5a2f91e7a84c45cc"
  },
  {
   "metadata": {
    "ExecuteTime": {
     "end_time": "2025-10-27T13:01:36.462919Z",
     "start_time": "2025-10-27T13:01:36.461022Z"
    }
   },
   "cell_type": "code",
   "source": [
    "try:\n",
    "    x = 10 / 0\n",
    "except:\n",
    "    pass"
   ],
   "id": "6c82b0814d4c2405",
   "outputs": [],
   "execution_count": 13
  },
  {
   "metadata": {},
   "cell_type": "markdown",
   "source": "## Modules",
   "id": "8c84aa5adb2415a1"
  },
  {
   "metadata": {},
   "cell_type": "markdown",
   "source": [
    "Modules are the libraries of Python. the keywork `import` is used to import the modules\n",
    "```\n",
    "import module1,[module2,module3, ... modulen]\n",
    "```\n",
    "\n",
    "Classes and items can be imported separately\n",
    "\n",
    "```\n",
    "from module import object1,[object2,object3, ... objectn]\n",
    "from module import *\n",
    "```\n",
    "\n",
    "when importing you can alias it using the `as` keyword\n",
    "```\n",
    "import module1 as alias1,[module2 as alias2, ... modulen as aliasn]\n",
    "```"
   ],
   "id": "21c2f1ab208400c0"
  },
  {
   "metadata": {},
   "cell_type": "markdown",
   "source": [
    "Default Python modules\n",
    "- os\n",
    "- sys\n",
    "- re\n",
    "- math\n",
    "- etc...\n",
    "\n",
    "to obtain a list of all available functions and objects of a module, the `dir` keyword is used"
   ],
   "id": "6515485e27e4c2a"
  },
  {
   "metadata": {
    "ExecuteTime": {
     "end_time": "2025-10-27T13:06:17.029621Z",
     "start_time": "2025-10-27T13:06:17.027029Z"
    }
   },
   "cell_type": "code",
   "source": [
    "import math\n",
    "print ( dir(math) )"
   ],
   "id": "e81704f6400f48f3",
   "outputs": [
    {
     "name": "stdout",
     "output_type": "stream",
     "text": [
      "['__doc__', '__file__', '__loader__', '__name__', '__package__', '__spec__', 'acos', 'acosh', 'asin', 'asinh', 'atan', 'atan2', 'atanh', 'cbrt', 'ceil', 'comb', 'copysign', 'cos', 'cosh', 'degrees', 'dist', 'e', 'erf', 'erfc', 'exp', 'exp2', 'expm1', 'fabs', 'factorial', 'floor', 'fma', 'fmod', 'frexp', 'fsum', 'gamma', 'gcd', 'hypot', 'inf', 'isclose', 'isfinite', 'isinf', 'isnan', 'isqrt', 'lcm', 'ldexp', 'lgamma', 'log', 'log10', 'log1p', 'log2', 'modf', 'nan', 'nextafter', 'perm', 'pi', 'pow', 'prod', 'radians', 'remainder', 'sin', 'sinh', 'sqrt', 'sumprod', 'tan', 'tanh', 'tau', 'trunc', 'ulp']\n"
     ]
    }
   ],
   "execution_count": 14
  },
  {
   "metadata": {},
   "cell_type": "markdown",
   "source": [
    "### Distributions of Modules\n",
    "- collections -> implementation of container based data structures (Linked Lists, Stacks, Queues, Dequeues)\n",
    "- ctype -> packing and unpacking bytes into c-like structures\n",
    "- datetime -> Operations with dates and times\n",
    "- email -> working with emails\n",
    "- hashlib -> implementation of cryptographic hashes (Merkel Damad, Sponge)\n",
    "- json -> encoding and decoding JSONs\n",
    "- math -> Mathematical functions\n",
    "- os -> OS wide functions\n",
    "- re -> Regex\n",
    "- random -> Random numbers\n",
    "- socket -> For networking programming\n",
    "- subprocess -> For creating child processes\n",
    "- sys -> System wide functions\n",
    "- traceback -> Exception traceback\n",
    "- urllib -> Handling URL/URI\n",
    "- xml -> Parsing XMLs"
   ],
   "id": "e12abf34cc7ba393"
  },
  {
   "metadata": {},
   "cell_type": "markdown",
   "source": [
    "### SYS module\n",
    "- `argv` -> list of arguments passed to the script\n",
    "- `platform` -> The current platform (Windows, Linux, Mac OS)\n",
    "- `stdin`, `stdout`, `stderr` -> Standard IO operations\n",
    "- `path` -> Paths from the loaded modules\n",
    "- `modules` -> Dictionary of loaded modules"
   ],
   "id": "fb2b143a16981b29"
  },
  {
   "metadata": {},
   "cell_type": "markdown",
   "source": "`sys.argv` provides a list of arguments passed when running the script. THe first element is always the path to the script itself",
   "id": "82630ce665618b5f"
  },
  {
   "metadata": {
    "ExecuteTime": {
     "end_time": "2025-10-27T13:15:03.063615Z",
     "start_time": "2025-10-27T13:15:03.061159Z"
    }
   },
   "cell_type": "code",
   "source": [
    "import sys\n",
    "print (\"First parameter is\",sys.argv[0])"
   ],
   "id": "e768e3c248844b0f",
   "outputs": [
    {
     "name": "stdout",
     "output_type": "stream",
     "text": [
      "First parameter is /home/mrbogdanovich/git/Python_Works/.venv/lib/python3.13/site-packages/ipykernel_launcher.py\n"
     ]
    }
   ],
   "execution_count": 15
  },
  {
   "metadata": {
    "ExecuteTime": {
     "end_time": "2025-10-27T13:16:42.633135Z",
     "start_time": "2025-10-27T13:16:42.630576Z"
    }
   },
   "cell_type": "code",
   "source": [
    "import sys\n",
    "suma = 0\n",
    "try:\n",
    "    for val in sys.argv[1:]:\n",
    "        suma += int(val)\n",
    "    print(\"Sum=\",suma)\n",
    "except:\n",
    "    print(\"Invalid parameters\")"
   ],
   "id": "e924ba87ab591762",
   "outputs": [
    {
     "name": "stdout",
     "output_type": "stream",
     "text": [
      "Invalid parameters\n"
     ]
    }
   ],
   "execution_count": 16
  },
  {
   "metadata": {},
   "cell_type": "markdown",
   "source": [
    "### OS module\n",
    "\n",
    "Includes functions like\n",
    "- Environment\n",
    "- Processes\n",
    "- File System (changing the directory, enumerating files, delete files, directories...)\n",
    "- File descriptor operations\n",
    "- Terminal informations\n",
    "- Process managements\n",
    "- Working with file paths"
   ],
   "id": "b1de23729397bdc1"
  },
  {
   "metadata": {},
   "cell_type": "markdown",
   "source": "**Creating the current directory elements**",
   "id": "bf78578c79a81b10"
  },
  {
   "metadata": {
    "ExecuteTime": {
     "end_time": "2025-10-27T13:20:49.884497Z",
     "start_time": "2025-10-27T13:20:49.881769Z"
    }
   },
   "cell_type": "code",
   "source": [
    "import os\n",
    "print (os.listdir(\".\"))"
   ],
   "id": "826e6d996bbbdcf1",
   "outputs": [
    {
     "name": "stdout",
     "output_type": "stream",
     "text": [
      "['Notes.ipynb']\n"
     ]
    }
   ],
   "execution_count": 1
  },
  {
   "metadata": {},
   "cell_type": "markdown",
   "source": [
    "**Supported OS file and folder operations**\n",
    "\n",
    "- `os.mkdir` -> creates a directory\n",
    "- `os.chdir` -> change the current working directory\n",
    "- `os.rmdir` -> removes a directory\n",
    "- `os.rename` -> rename or move item\n",
    "- `os.remove` -> remove an item"
   ],
   "id": "1327e46bc76d82db"
  },
  {
   "metadata": {},
   "cell_type": "markdown",
   "source": [
    "`os.path` is a submodule that performs path specific operations:\n",
    "- join -> Given strings, returns a path\n",
    "- dirname -> outputs the directory of the given path\n",
    "- basename -> outputs the element of given path\n",
    "- splitext -> returns a list of elements of given path\n",
    "- exists -> checks if this path exists\n",
    "- isdir -> checks if the given path is for a directory\n",
    "- isfile -> checks id the given path is for a file"
   ],
   "id": "fc4f10f7a6eefedf"
  },
  {
   "metadata": {},
   "cell_type": "markdown",
   "source": "**Recursively displaying contents of a given path**",
   "id": "c3278d361117faf"
  },
  {
   "metadata": {
    "ExecuteTime": {
     "end_time": "2025-10-27T13:26:59.261120Z",
     "start_time": "2025-10-27T13:26:59.258514Z"
    }
   },
   "cell_type": "code",
   "source": [
    "import os\n",
    "\n",
    "for (root,directories,files) in os.walk(\".\"):\n",
    "    for fileName in files:\n",
    "        full_fileName = os.path.join(root,fileName)\n",
    "        print (full_fileName)"
   ],
   "id": "b5d09edc1a2a2238",
   "outputs": [
    {
     "name": "stdout",
     "output_type": "stream",
     "text": [
      "./Notes.ipynb\n"
     ]
    }
   ],
   "execution_count": 2
  },
  {
   "metadata": {},
   "cell_type": "markdown",
   "source": "To run external commands, the `system` method is used",
   "id": "1112efee26a76941"
  },
  {
   "metadata": {
    "ExecuteTime": {
     "end_time": "2025-10-27T13:27:37.810843Z",
     "start_time": "2025-10-27T13:27:37.802250Z"
    }
   },
   "cell_type": "code",
   "source": [
    "import os\n",
    "os.system(\"dir *.* /a\")"
   ],
   "id": "9a46fb92f7aa604",
   "outputs": [
    {
     "name": "stdout",
     "output_type": "stream",
     "text": [
      "Notes.ipynb\n"
     ]
    },
    {
     "name": "stderr",
     "output_type": "stream",
     "text": [
      "dir: cannot access '/a': No such file or directory\n"
     ]
    },
    {
     "data": {
      "text/plain": [
       "512"
      ]
     },
     "execution_count": 3,
     "metadata": {},
     "output_type": "execute_result"
    }
   ],
   "execution_count": 3
  },
  {
   "metadata": {},
   "cell_type": "markdown",
   "source": "### IO",
   "id": "1417e96cccd298bd"
  },
  {
   "metadata": {},
   "cell_type": "markdown",
   "source": [
    "- Input -> with `input` or `raw_input`\n",
    "- Output -> with `print`\n",
    "- File IO -> with `open`"
   ],
   "id": "4de42d5cd1665a1"
  },
  {
   "metadata": {},
   "cell_type": "markdown",
   "source": "`input` is used for standard input, it will always result as a string",
   "id": "18cb68283010610b"
  },
  {
   "metadata": {
    "ExecuteTime": {
     "end_time": "2025-10-27T13:30:10.904510Z",
     "start_time": "2025-10-27T13:30:05.315234Z"
    }
   },
   "cell_type": "code",
   "source": [
    "x = input(\"enter a number: \")\n",
    "print(x, type(x))"
   ],
   "id": "b5afecabecea0375",
   "outputs": [
    {
     "name": "stdout",
     "output_type": "stream",
     "text": [
      "10 <class 'str'>\n"
     ]
    }
   ],
   "execution_count": 5
  },
  {
   "metadata": {},
   "cell_type": "markdown",
   "source": [
    "`print` is used as the standard output.\n",
    "```\n",
    "print (*objects, sep=' ', end='\\n', file=sys.stdout, flush=False)\n",
    "```"
   ],
   "id": "c04ba05043beaefe"
  },
  {
   "metadata": {
    "ExecuteTime": {
     "end_time": "2025-10-27T13:32:38.217283Z",
     "start_time": "2025-10-27T13:32:38.214867Z"
    }
   },
   "cell_type": "code",
   "source": [
    "print(\"sup\")\n",
    "print(\"sup\", 10)\n",
    "print(\"sup\", 10, sep=\"----\")\n",
    "print(\"sup\"); print(\"Browskis\")\n",
    "print(\"sup\", end=\"-----\"); print(\"Browskis\")"
   ],
   "id": "d0201a13e1296609",
   "outputs": [
    {
     "name": "stdout",
     "output_type": "stream",
     "text": [
      "sup\n",
      "sup 10\n",
      "sup----10\n",
      "sup\n",
      "Browskis\n",
      "sup-----Browskis\n"
     ]
    }
   ],
   "execution_count": 8
  },
  {
   "metadata": {},
   "cell_type": "markdown",
   "source": "### File Management",
   "id": "1c63a2af2280f13f"
  },
  {
   "metadata": {},
   "cell_type": "markdown",
   "source": [
    "To open a file the keyword `open` is used\n",
    "`FileObject = open (filePath, mode='r', buffering=-1, encoding=None,errors=None, newline=None, closefd=True, opener=None)`\n",
    "\n",
    "where mode is the following\n",
    "- r -> read (default)\n",
    "- w -> write\n",
    "- x -> exclusive creation (fails if it exists)\n",
    "- a -> append\n",
    "- b -> binary mode\n",
    "- t -> text mode\n",
    "- + -> update"
   ],
   "id": "a7c4deeb151e08c9"
  },
  {
   "metadata": {},
   "cell_type": "markdown",
   "source": [
    "A file descriptor has the following methods\n",
    "- close -> closes the file\n",
    "- tell -> outputs the current pointer position\n",
    "- seek -> sets the current position to a new one\n",
    "- read -> reads a given number of bytes (used for asignating bytes to a variable)\n",
    "- write -> put given bytes into a file\n",
    "- readline -> returns a line from the file"
   ],
   "id": "4096da99d6e7fd28"
  },
  {
   "metadata": {
    "ExecuteTime": {
     "end_time": "2025-10-27T13:38:50.978039Z",
     "start_time": "2025-10-27T13:38:50.812660Z"
    }
   },
   "cell_type": "code",
   "source": [
    "for line in open(\"a.py\"):\n",
    "    print (line.strip())"
   ],
   "id": "e4cf35942a5657f0",
   "outputs": [
    {
     "ename": "FileNotFoundError",
     "evalue": "[Errno 2] No such file or directory: 'a.py'",
     "output_type": "error",
     "traceback": [
      "\u001B[31m---------------------------------------------------------------------------\u001B[39m",
      "\u001B[31mFileNotFoundError\u001B[39m                         Traceback (most recent call last)",
      "\u001B[36mCell\u001B[39m\u001B[36m \u001B[39m\u001B[32mIn[9]\u001B[39m\u001B[32m, line 1\u001B[39m\n\u001B[32m----> \u001B[39m\u001B[32m1\u001B[39m \u001B[38;5;28;01mfor\u001B[39;00m line \u001B[38;5;129;01min\u001B[39;00m \u001B[38;5;28;43mopen\u001B[39;49m\u001B[43m(\u001B[49m\u001B[33;43m\"\u001B[39;49m\u001B[33;43ma.py\u001B[39;49m\u001B[33;43m\"\u001B[39;49m\u001B[43m)\u001B[49m:\n\u001B[32m      2\u001B[39m     \u001B[38;5;28mprint\u001B[39m (line.strip())\n",
      "\u001B[36mFile \u001B[39m\u001B[32m~/git/Python_Works/.venv/lib/python3.13/site-packages/IPython/core/interactiveshell.py:343\u001B[39m, in \u001B[36m_modified_open\u001B[39m\u001B[34m(file, *args, **kwargs)\u001B[39m\n\u001B[32m    336\u001B[39m \u001B[38;5;28;01mif\u001B[39;00m file \u001B[38;5;129;01min\u001B[39;00m {\u001B[32m0\u001B[39m, \u001B[32m1\u001B[39m, \u001B[32m2\u001B[39m}:\n\u001B[32m    337\u001B[39m     \u001B[38;5;28;01mraise\u001B[39;00m \u001B[38;5;167;01mValueError\u001B[39;00m(\n\u001B[32m    338\u001B[39m         \u001B[33mf\u001B[39m\u001B[33m\"\u001B[39m\u001B[33mIPython won\u001B[39m\u001B[33m'\u001B[39m\u001B[33mt let you open fd=\u001B[39m\u001B[38;5;132;01m{\u001B[39;00mfile\u001B[38;5;132;01m}\u001B[39;00m\u001B[33m by default \u001B[39m\u001B[33m\"\u001B[39m\n\u001B[32m    339\u001B[39m         \u001B[33m\"\u001B[39m\u001B[33mas it is likely to crash IPython. If you know what you are doing, \u001B[39m\u001B[33m\"\u001B[39m\n\u001B[32m    340\u001B[39m         \u001B[33m\"\u001B[39m\u001B[33myou can use builtins\u001B[39m\u001B[33m'\u001B[39m\u001B[33m open.\u001B[39m\u001B[33m\"\u001B[39m\n\u001B[32m    341\u001B[39m     )\n\u001B[32m--> \u001B[39m\u001B[32m343\u001B[39m \u001B[38;5;28;01mreturn\u001B[39;00m \u001B[43mio_open\u001B[49m\u001B[43m(\u001B[49m\u001B[43mfile\u001B[49m\u001B[43m,\u001B[49m\u001B[43m \u001B[49m\u001B[43m*\u001B[49m\u001B[43margs\u001B[49m\u001B[43m,\u001B[49m\u001B[43m \u001B[49m\u001B[43m*\u001B[49m\u001B[43m*\u001B[49m\u001B[43mkwargs\u001B[49m\u001B[43m)\u001B[49m\n",
      "\u001B[31mFileNotFoundError\u001B[39m: [Errno 2] No such file or directory: 'a.py'"
     ]
    }
   ],
   "execution_count": 9
  },
  {
   "metadata": {},
   "cell_type": "markdown",
   "source": "Reading in this format causes a terminator to appear, to remove it `strip` and `rstrip` methods are used",
   "id": "74d4dfaade62a913"
  },
  {
   "metadata": {},
   "cell_type": "markdown",
   "source": "Functional Programming can be used to perform file operations",
   "id": "22c5869e7b027fc9"
  },
  {
   "metadata": {},
   "cell_type": "code",
   "outputs": [],
   "execution_count": null,
   "source": [
    "x = [line for line in open(\"file.txt\") if \"Gen\" in line.strip()]\n",
    "print (len(x))"
   ],
   "id": "6c56643b0f0f7457"
  },
  {
   "metadata": {},
   "cell_type": "markdown",
   "source": "To read from a buffer",
   "id": "be62197991fba415"
  },
  {
   "metadata": {},
   "cell_type": "code",
   "outputs": [],
   "execution_count": null,
   "source": [
    "data = open(\"file.txt\",\"rb\").read()\n",
    "print (len(data))\n",
    "print (data[0])"
   ],
   "id": "75dea2cf0b75bf69"
  },
  {
   "metadata": {},
   "cell_type": "markdown",
   "source": "To write into a file",
   "id": "e3d8f9e6d2862ba5"
  },
  {
   "metadata": {},
   "cell_type": "code",
   "outputs": [],
   "execution_count": null,
   "source": "open(\"file.txt\",\"wt\").write(\"A new file ...\")",
   "id": "a5ce4b9cee74820b"
  },
  {
   "metadata": {},
   "cell_type": "markdown",
   "source": "Best practice to use these kind of operations",
   "id": "7cb6eecb04f50cef"
  },
  {
   "metadata": {},
   "cell_type": "code",
   "outputs": [],
   "execution_count": null,
   "source": [
    "try:\n",
    "    f = open(\"abc.txt\")\n",
    "    for line in f:\n",
    "        print(line.strip())\n",
    "    f.close()\n",
    "except:\n",
    "    print(\"Unable to open file abc.txt\")"
   ],
   "id": "88f3a9614a6ef1cd"
  },
  {
   "metadata": {},
   "cell_type": "markdown",
   "source": "Once a file is opened some attributes can be accessed",
   "id": "91656dcfcced0682"
  },
  {
   "metadata": {},
   "cell_type": "code",
   "outputs": [],
   "execution_count": null,
   "source": [
    "f = open(\"a.py\",\"rb\")\n",
    "print (\"File name : \", f.name)\n",
    "print (\"File open mode : \", f.mode)\n",
    "print (\"Is it closed ? : \", f.closed)"
   ],
   "id": "9043710f5ab574a"
  }
 ],
 "metadata": {
  "kernelspec": {
   "display_name": "Python 3",
   "language": "python",
   "name": "python3"
  },
  "language_info": {
   "codemirror_mode": {
    "name": "ipython",
    "version": 2
   },
   "file_extension": ".py",
   "mimetype": "text/x-python",
   "name": "python",
   "nbconvert_exporter": "python",
   "pygments_lexer": "ipython2",
   "version": "2.7.6"
  }
 },
 "nbformat": 4,
 "nbformat_minor": 5
}
