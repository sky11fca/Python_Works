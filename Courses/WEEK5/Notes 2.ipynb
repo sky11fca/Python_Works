{
 "cells": [
  {
   "metadata": {},
   "cell_type": "markdown",
   "source": "# Python OOP",
   "id": "1b978f1c2feadf5a"
  },
  {
   "metadata": {},
   "cell_type": "markdown",
   "source": "## Classes",
   "id": "32a82aa9bc0539c3"
  },
  {
   "metadata": {},
   "cell_type": "markdown",
   "source": [
    "Classes in python are different than in C\n",
    "\n",
    "```\n",
    "class <name>:\n",
    "    <statement1>\n",
    "    ...\n",
    "    <statementn>\n",
    "```\n",
    "\n",
    "which statement is where we declare methods"
   ],
   "id": "7eb445aacc3519bf"
  },
  {
   "metadata": {},
   "cell_type": "markdown",
   "source": [
    "`self` is used like the C's `this`. it must be added as a parameter for each method declared.\n",
    "\n",
    "the constructor is `__init__` that must always contain self as parameter"
   ],
   "id": "9710eabc22ae9d8d"
  },
  {
   "metadata": {
    "collapsed": true,
    "ExecuteTime": {
     "end_time": "2025-10-27T15:06:16.233405Z",
     "start_time": "2025-10-27T15:06:16.229589Z"
    }
   },
   "cell_type": "code",
   "source": [
    "class Point:\n",
    "    def __init__(self):\n",
    "        self.x = 0\n",
    "        self.y = 0\n",
    "\n",
    "p = Point()\n",
    "print (p.x,p.y)"
   ],
   "id": "7ae95d06388c5b87",
   "outputs": [
    {
     "name": "stdout",
     "output_type": "stream",
     "text": [
      "0 0\n"
     ]
    }
   ],
   "execution_count": 1
  },
  {
   "metadata": {},
   "cell_type": "markdown",
   "source": "For each method, the first parameter defined is always `self`",
   "id": "14041bec5dd91f40"
  },
  {
   "metadata": {
    "ExecuteTime": {
     "end_time": "2025-10-27T15:07:01.198924Z",
     "start_time": "2025-10-27T15:07:01.195697Z"
    }
   },
   "cell_type": "code",
   "source": [
    "class Point:\n",
    "    def __init__(self):\n",
    "        self.x = 0\n",
    "        self.y = 0\n",
    "    def GetX(self):\n",
    "        return self.x\n",
    "\n",
    "p = Point()\n",
    "print (p.GetX())"
   ],
   "id": "2203ff0b1e18e864",
   "outputs": [
    {
     "name": "stdout",
     "output_type": "stream",
     "text": [
      "0\n"
     ]
    }
   ],
   "execution_count": 2
  },
  {
   "metadata": {},
   "cell_type": "markdown",
   "source": "A method that doesn't have self as parameter is a static one",
   "id": "81dae953654ac616"
  },
  {
   "metadata": {
    "ExecuteTime": {
     "end_time": "2025-10-27T15:08:04.262573Z",
     "start_time": "2025-10-27T15:08:04.135173Z"
    }
   },
   "cell_type": "code",
   "source": [
    "class Point:\n",
    "    def __init__(self):\n",
    "        self.x = 0\n",
    "        self.y = 0\n",
    "    def GetY():\n",
    "        return self.y\n",
    "\n",
    "p = Point()\n",
    "print (p.GetY())"
   ],
   "id": "4df9b9961e31b689",
   "outputs": [
    {
     "ename": "TypeError",
     "evalue": "Point.GetY() takes 0 positional arguments but 1 was given",
     "output_type": "error",
     "traceback": [
      "\u001B[31m---------------------------------------------------------------------------\u001B[39m",
      "\u001B[31mTypeError\u001B[39m                                 Traceback (most recent call last)",
      "\u001B[36mCell\u001B[39m\u001B[36m \u001B[39m\u001B[32mIn[3]\u001B[39m\u001B[32m, line 9\u001B[39m\n\u001B[32m      6\u001B[39m         \u001B[38;5;28;01mreturn\u001B[39;00m \u001B[38;5;28mself\u001B[39m.y\n\u001B[32m      8\u001B[39m p = Point()\n\u001B[32m----> \u001B[39m\u001B[32m9\u001B[39m \u001B[38;5;28mprint\u001B[39m (\u001B[43mp\u001B[49m\u001B[43m.\u001B[49m\u001B[43mGetY\u001B[49m\u001B[43m(\u001B[49m\u001B[43m)\u001B[49m)\n",
      "\u001B[31mTypeError\u001B[39m: Point.GetY() takes 0 positional arguments but 1 was given"
     ]
    }
   ],
   "execution_count": 3
  },
  {
   "metadata": {
    "ExecuteTime": {
     "end_time": "2025-10-27T15:08:44.857492Z",
     "start_time": "2025-10-27T15:08:44.854152Z"
    }
   },
   "cell_type": "code",
   "source": [
    "class Point:\n",
    "    def __init__(self):\n",
    "        self.x = 0\n",
    "        self.y = 0\n",
    "\n",
    "    def GetY():\n",
    "        print(\"Test\")\n",
    "\n",
    "Point.GetY()"
   ],
   "id": "801ebc4a094ece89",
   "outputs": [
    {
     "name": "stdout",
     "output_type": "stream",
     "text": [
      "Test\n"
     ]
    }
   ],
   "execution_count": 4
  },
  {
   "metadata": {},
   "cell_type": "markdown",
   "source": "Data members can also be defined inside the class. But if mutable objects are used, their behaviour is different",
   "id": "d3d6f2366204d56b"
  },
  {
   "metadata": {
    "ExecuteTime": {
     "end_time": "2025-10-27T15:10:06.682790Z",
     "start_time": "2025-10-27T15:10:06.679532Z"
    }
   },
   "cell_type": "code",
   "source": [
    "class Point:\n",
    "    x = 0\n",
    "    y = 0\n",
    "\n",
    "p1 = Point()\n",
    "p2 = Point()\n",
    "p1.x = 10\n",
    "p2.x = 20\n",
    "print (p1.x,p2.x)"
   ],
   "id": "7ffb7568479f35ab",
   "outputs": [
    {
     "name": "stdout",
     "output_type": "stream",
     "text": [
      "10 20\n"
     ]
    }
   ],
   "execution_count": 5
  },
  {
   "metadata": {
    "ExecuteTime": {
     "end_time": "2025-10-27T15:10:24.334833Z",
     "start_time": "2025-10-27T15:10:24.331189Z"
    }
   },
   "cell_type": "code",
   "source": [
    "class Point:\n",
    "    numbers = [1,2,3]\n",
    "    def AddNumber(self,n):\n",
    "        self.numbers += [n]\n",
    "\n",
    "p1 = Point()\n",
    "p2 = Point()\n",
    "p1.AddNumber(4)\n",
    "p2.AddNumber(5)\n",
    "print (p1.numbers)\n",
    "print (p2.numbers)"
   ],
   "id": "121824f28d332e7f",
   "outputs": [
    {
     "name": "stdout",
     "output_type": "stream",
     "text": [
      "[1, 2, 3, 4, 5]\n",
      "[1, 2, 3, 4, 5]\n"
     ]
    }
   ],
   "execution_count": 6
  },
  {
   "metadata": {},
   "cell_type": "markdown",
   "source": "Best approach is to define your attributes in the constructor `__init__`",
   "id": "15099dc4e1c8ac8"
  },
  {
   "metadata": {
    "ExecuteTime": {
     "end_time": "2025-10-27T15:11:13.138462Z",
     "start_time": "2025-10-27T15:11:13.134934Z"
    }
   },
   "cell_type": "code",
   "source": [
    "class Point:\n",
    "    def __init__(self):\n",
    "        self.numbers = [1,2,3]\n",
    "    def AddNumber(self,n):\n",
    "        self.numbers += [n]\n",
    "\n",
    "p1 = Point()\n",
    "p2 = Point()\n",
    "p1.AddNumber(4)\n",
    "p2.AddNumber(5)\n",
    "print (p1.numbers)\n",
    "print (p2.numbers)"
   ],
   "id": "a5ee46b7a3e5a054",
   "outputs": [
    {
     "name": "stdout",
     "output_type": "stream",
     "text": [
      "[1, 2, 3, 4]\n",
      "[1, 2, 3, 5]\n"
     ]
    }
   ],
   "execution_count": 7
  },
  {
   "metadata": {},
   "cell_type": "markdown",
   "source": "The class data structure is more likely a dictionary",
   "id": "e49d8503bf5ad8c7"
  },
  {
   "metadata": {
    "ExecuteTime": {
     "end_time": "2025-10-27T15:12:03.909416Z",
     "start_time": "2025-10-27T15:12:03.905865Z"
    }
   },
   "cell_type": "code",
   "source": [
    "class Point:\n",
    "    def __init__(self):\n",
    "        self.x = 0\n",
    "        self.y = 0\n",
    "\n",
    "p1 = Point()\n",
    "p2 = Point()\n",
    "p1.z = 10\n",
    "print (p1.x,p1.y,p1.z)"
   ],
   "id": "bae32ac5d8d617cf",
   "outputs": [
    {
     "name": "stdout",
     "output_type": "stream",
     "text": [
      "0 0 10\n"
     ]
    }
   ],
   "execution_count": 8
  },
  {
   "metadata": {},
   "cell_type": "markdown",
   "source": "I'm not allowed to access z attribute (because it doesn't exist), and yet here we are",
   "id": "e38a3272312637ea"
  },
  {
   "metadata": {
    "ExecuteTime": {
     "end_time": "2025-10-27T15:13:09.249603Z",
     "start_time": "2025-10-27T15:13:09.228740Z"
    }
   },
   "cell_type": "code",
   "source": [
    "class Point:\n",
    "    def __init__(self):\n",
    "        self.x = 0\n",
    "        self.y = 0\n",
    "\n",
    "p1 = Point()\n",
    "p2 = Point()\n",
    "p1.z = 10\n",
    "print (p1.x,p1.y,p2.z)"
   ],
   "id": "3dca65aedbbd13de",
   "outputs": [
    {
     "ename": "AttributeError",
     "evalue": "'Point' object has no attribute 'z'",
     "output_type": "error",
     "traceback": [
      "\u001B[31m---------------------------------------------------------------------------\u001B[39m",
      "\u001B[31mAttributeError\u001B[39m                            Traceback (most recent call last)",
      "\u001B[36mCell\u001B[39m\u001B[36m \u001B[39m\u001B[32mIn[9]\u001B[39m\u001B[32m, line 9\u001B[39m\n\u001B[32m      7\u001B[39m p2 = Point()\n\u001B[32m      8\u001B[39m p1.z = \u001B[32m10\u001B[39m\n\u001B[32m----> \u001B[39m\u001B[32m9\u001B[39m \u001B[38;5;28mprint\u001B[39m (p1.x,p1.y,\u001B[43mp2\u001B[49m\u001B[43m.\u001B[49m\u001B[43mz\u001B[49m)\n",
      "\u001B[31mAttributeError\u001B[39m: 'Point' object has no attribute 'z'"
     ]
    }
   ],
   "execution_count": 9
  },
  {
   "metadata": {},
   "cell_type": "markdown",
   "source": "What is Happening inside the process:",
   "id": "cdd4dc69a9422948"
  },
  {
   "metadata": {
    "ExecuteTime": {
     "end_time": "2025-10-27T15:13:59.869197Z",
     "start_time": "2025-10-27T15:13:59.866397Z"
    }
   },
   "cell_type": "code",
   "source": [
    "class Point:\n",
    "    def __init__(self):\n",
    "        self.x = 0\n",
    "        self.y = 0\n",
    "\n",
    "p1 = Point()\n",
    "p2 = Point()\n",
    "p1.z = 10"
   ],
   "id": "35cb35e92141fd43",
   "outputs": [],
   "execution_count": 10
  },
  {
   "metadata": {},
   "cell_type": "code",
   "outputs": [],
   "execution_count": null,
   "source": [
    "def PointClass__init__(obj):\n",
    "    obj[\"x\"] = 0\n",
    "    obj[\"y\"] = 0\n",
    "\n",
    "Point = { \"__init__\":PointClass__init__ }\n",
    "p1 = dict(Point)\n",
    "p1[\"__init__\"](p1)\n",
    "p2 = dict(Point)\n",
    "p2[\"__init__\"](p2)\n",
    "p1[\"z\"] = 10"
   ],
   "id": "65d3920548d88cbf"
  },
  {
   "metadata": {},
   "cell_type": "markdown",
   "source": "Another example",
   "id": "6bc1b9bb0673cb4f"
  },
  {
   "metadata": {
    "ExecuteTime": {
     "end_time": "2025-10-27T15:15:48.812336Z",
     "start_time": "2025-10-27T15:15:48.809431Z"
    }
   },
   "cell_type": "code",
   "source": [
    "class Test:\n",
    "    numbers = [1,2,3]\n",
    "    def AddNumber(self,n):\n",
    "        self.numbers += [n]\n",
    "\n",
    "p1 = Test()\n",
    "p2 = Test()\n",
    "p1.AddNumber(4)\n",
    "p2.AddNumber(5)"
   ],
   "id": "82267dcf3c3ad9b1",
   "outputs": [],
   "execution_count": 11
  },
  {
   "metadata": {
    "ExecuteTime": {
     "end_time": "2025-10-27T15:15:50.308820Z",
     "start_time": "2025-10-27T15:15:50.305858Z"
    }
   },
   "cell_type": "code",
   "source": [
    "numbers_vector = [1,2,3]\n",
    "def TestClass_AddNumber(obj,n):\n",
    "    obj[\"numbers\"]+=[n]\n",
    "\n",
    "TestClass = {\n",
    "    \"AddNumber\":TestClass_AddNumber,\n",
    "    \"numbers\":numbers_vector\n",
    "}\n",
    "\n",
    "p1 = dict(TestClass)\n",
    "p2 = dict(TestClass)\n",
    "p1[\"AddNumber\"](p1,4)\n",
    "p2[\"AddNumber\"](p2,5)"
   ],
   "id": "27fc0f2a302cfdcc",
   "outputs": [],
   "execution_count": 12
  },
  {
   "metadata": {},
   "cell_type": "markdown",
   "source": "And because the class data structure is technically a dictionary, I am allowed to delete attributes",
   "id": "81f71d08935e15ce"
  },
  {
   "metadata": {
    "ExecuteTime": {
     "end_time": "2025-10-27T15:16:43.061970Z",
     "start_time": "2025-10-27T15:16:43.038477Z"
    }
   },
   "cell_type": "code",
   "source": [
    "class Point:\n",
    "    def __init__(self):\n",
    "        self.x = 0\n",
    "        self.y = 0\n",
    "\n",
    "p = Point()\n",
    "print (p.x,p.y)\n",
    "p.x = 10\n",
    "print (p.x,p.y)\n",
    "del p.x\n",
    "print (p.x,p.y)"
   ],
   "id": "63af83aeeb9862ee",
   "outputs": [
    {
     "name": "stdout",
     "output_type": "stream",
     "text": [
      "0 0\n",
      "10 0\n"
     ]
    },
    {
     "ename": "AttributeError",
     "evalue": "'Point' object has no attribute 'x'",
     "output_type": "error",
     "traceback": [
      "\u001B[31m---------------------------------------------------------------------------\u001B[39m",
      "\u001B[31mAttributeError\u001B[39m                            Traceback (most recent call last)",
      "\u001B[36mCell\u001B[39m\u001B[36m \u001B[39m\u001B[32mIn[13]\u001B[39m\u001B[32m, line 11\u001B[39m\n\u001B[32m      9\u001B[39m \u001B[38;5;28mprint\u001B[39m (p.x,p.y)\n\u001B[32m     10\u001B[39m \u001B[38;5;28;01mdel\u001B[39;00m p.x\n\u001B[32m---> \u001B[39m\u001B[32m11\u001B[39m \u001B[38;5;28mprint\u001B[39m (\u001B[43mp\u001B[49m\u001B[43m.\u001B[49m\u001B[43mx\u001B[49m,p.y)\n",
      "\u001B[31mAttributeError\u001B[39m: 'Point' object has no attribute 'x'"
     ]
    }
   ],
   "execution_count": 13
  },
  {
   "metadata": {},
   "cell_type": "markdown",
   "source": [
    "**So what does it means in OOP terms?**\n",
    "- Method overloading is no longer possible. But you can create a method with default attributes and use that instead\n",
    "- Private and protected attributes/methods don't exist. THe keys of a dictionary is accessible\n",
    "- Casting is no longer possible. A solution is the use of specialized functions\n",
    "- Polymorphism is implicit. You don't need to have classes derived from the same class to simulate polymorphism"
   ],
   "id": "8a887aa63a85b451"
  },
  {
   "metadata": {},
   "cell_type": "markdown",
   "source": "Exactly as variables, attributes can be reassigned",
   "id": "ff8acde290f2ba65"
  },
  {
   "metadata": {
    "ExecuteTime": {
     "end_time": "2025-10-27T15:21:07.285448Z",
     "start_time": "2025-10-27T15:21:07.282332Z"
    }
   },
   "cell_type": "code",
   "source": [
    "class MyClass:\n",
    "    x = 10\n",
    "    y = 20\n",
    "\n",
    "m = MyClass()\n",
    "print (m.x,\"=>\",type(m.x))\n",
    "m.x = \"a string\"\n",
    "print (m.x,\"=>\",type(m.x))"
   ],
   "id": "8253e8809d818e05",
   "outputs": [
    {
     "name": "stdout",
     "output_type": "stream",
     "text": [
      "10 => <class 'int'>\n",
      "a string => <class 'str'>\n"
     ]
    }
   ],
   "execution_count": 14
  },
  {
   "metadata": {},
   "cell_type": "markdown",
   "source": "Same as the class methods, but it depends by the self keyword",
   "id": "757cd6e8f3719962"
  },
  {
   "metadata": {
    "ExecuteTime": {
     "end_time": "2025-10-27T15:22:08.345755Z",
     "start_time": "2025-10-27T15:22:08.341981Z"
    }
   },
   "cell_type": "code",
   "source": [
    "class MyClass:\n",
    "    x = 10\n",
    "    y = 20\n",
    "    def Test(self,value):\n",
    "        return ((self.x+self.y)/2 == value)\n",
    "    def MyFunction(self,v1,v2):\n",
    "        return str(v1+v2)+\" - \"+str(self.x)+\",\"+str(self.y)\n",
    "\n",
    "m = MyClass()\n",
    "print (m.Test(15),m.Test(16))\n",
    "m.Test = m.MyFunction\n",
    "print (m.Test(1,2))"
   ],
   "id": "99d66123eda3e6c1",
   "outputs": [
    {
     "name": "stdout",
     "output_type": "stream",
     "text": [
      "True False\n",
      "3 - 10,20\n"
     ]
    }
   ],
   "execution_count": 15
  },
  {
   "metadata": {
    "ExecuteTime": {
     "end_time": "2025-10-27T15:23:51.400677Z",
     "start_time": "2025-10-27T15:23:51.397258Z"
    }
   },
   "cell_type": "code",
   "source": [
    "class MyClass:\n",
    "    x = 10\n",
    "    y = 20\n",
    "    def Test(self,value):\n",
    "        return ((self.x+self.y)/2 == value)\n",
    "    def MyFunction(self,v1,v2):\n",
    "        return str(v1+v2)+\" - \"+str(self.x)+\",\"+str(self.y)\n",
    "\n",
    "m = MyClass()\n",
    "m2 = MyClass()\n",
    "print (m.Test(15),m.Test(16))\n",
    "#m.Test = MyClass.MyFunction -> ERROR\n",
    "#m.Test = MyClass().MyFunction -> OK\n",
    "m.Test = m2.MyFunction # -> OK\n",
    "print (m.Test(1,2))"
   ],
   "id": "662dbbce55e19721",
   "outputs": [
    {
     "name": "stdout",
     "output_type": "stream",
     "text": [
      "True False\n",
      "3 - 10,20\n"
     ]
    }
   ],
   "execution_count": 18
  },
  {
   "metadata": {},
   "cell_type": "markdown",
   "source": "Methods are bound to the `self` object of the class the were initialized in. Even though you associate a method from a different class to a new method, the self will always belong to original class",
   "id": "fdc11d5e5915955"
  },
  {
   "metadata": {},
   "cell_type": "code",
   "outputs": [],
   "execution_count": null,
   "source": [
    "class MyClass:\n",
    "    x = 10\n",
    "    def Test(self,value):\n",
    "        return ((self.x+self.y)/2 == value)\n",
    "\n",
    "    def MyFunction(self,v1,v2):\n",
    "        return str(v1+v2)+\" - \"+str(self.x)\n",
    "\n",
    "m = MyClass()\n",
    "m2 = MyClass()\n",
    "m2.x = 100\n",
    "m.Test = m2.MyFunction\n",
    "print (m.Test(1,2)) # should return m2.MyFunction(1,2)\n",
    "print (m.MyFunction(1,2))"
   ],
   "id": "7e01969b9b93afbf"
  },
  {
   "metadata": {},
   "cell_type": "markdown",
   "source": "A method from other class can also be used but interferes the self from the original class",
   "id": "db683a9531c658f7"
  },
  {
   "metadata": {
    "ExecuteTime": {
     "end_time": "2025-10-27T15:27:42.414838Z",
     "start_time": "2025-10-27T15:27:42.366757Z"
    }
   },
   "cell_type": "code",
   "source": [
    "class MyClass:\n",
    "    x = 10\n",
    "    y = 20\n",
    "    def Test(self,value):\n",
    "        return ((self.x+self.y)/2 == value)\n",
    "\n",
    "class AnotherClass:\n",
    "    def MyFunction(self,v1,v2):\n",
    "        return str(v1+v2)+\" - \"+str(self.x)+\",\"+str(self.y)\n",
    "\n",
    "m = MyClass()\n",
    "print (m.Test(15),m.Test(16))\n",
    "m.Test = AnotherClass().MyFunction\n",
    "print (m.Test(1,2))"
   ],
   "id": "c78a88d37ad8f339",
   "outputs": [
    {
     "name": "stdout",
     "output_type": "stream",
     "text": [
      "True False\n"
     ]
    },
    {
     "ename": "AttributeError",
     "evalue": "'AnotherClass' object has no attribute 'x'",
     "output_type": "error",
     "traceback": [
      "\u001B[31m---------------------------------------------------------------------------\u001B[39m",
      "\u001B[31mAttributeError\u001B[39m                            Traceback (most recent call last)",
      "\u001B[36mCell\u001B[39m\u001B[36m \u001B[39m\u001B[32mIn[19]\u001B[39m\u001B[32m, line 14\u001B[39m\n\u001B[32m     12\u001B[39m \u001B[38;5;28mprint\u001B[39m (m.Test(\u001B[32m15\u001B[39m),m.Test(\u001B[32m16\u001B[39m))\n\u001B[32m     13\u001B[39m m.Test = AnotherClass().MyFunction\n\u001B[32m---> \u001B[39m\u001B[32m14\u001B[39m \u001B[38;5;28mprint\u001B[39m (\u001B[43mm\u001B[49m\u001B[43m.\u001B[49m\u001B[43mTest\u001B[49m\u001B[43m(\u001B[49m\u001B[32;43m1\u001B[39;49m\u001B[43m,\u001B[49m\u001B[32;43m2\u001B[39;49m\u001B[43m)\u001B[49m)\n",
      "\u001B[36mCell\u001B[39m\u001B[36m \u001B[39m\u001B[32mIn[19]\u001B[39m\u001B[32m, line 9\u001B[39m, in \u001B[36mAnotherClass.MyFunction\u001B[39m\u001B[34m(self, v1, v2)\u001B[39m\n\u001B[32m      8\u001B[39m \u001B[38;5;28;01mdef\u001B[39;00m\u001B[38;5;250m \u001B[39m\u001B[34mMyFunction\u001B[39m(\u001B[38;5;28mself\u001B[39m,v1,v2):\n\u001B[32m----> \u001B[39m\u001B[32m9\u001B[39m     \u001B[38;5;28;01mreturn\u001B[39;00m \u001B[38;5;28mstr\u001B[39m(v1+v2)+\u001B[33m\"\u001B[39m\u001B[33m - \u001B[39m\u001B[33m\"\u001B[39m+\u001B[38;5;28mstr\u001B[39m(\u001B[38;5;28;43mself\u001B[39;49m\u001B[43m.\u001B[49m\u001B[43mx\u001B[49m)+\u001B[33m\"\u001B[39m\u001B[33m,\u001B[39m\u001B[33m\"\u001B[39m+\u001B[38;5;28mstr\u001B[39m(\u001B[38;5;28mself\u001B[39m.y)\n",
      "\u001B[31mAttributeError\u001B[39m: 'AnotherClass' object has no attribute 'x'"
     ]
    }
   ],
   "execution_count": 19
  },
  {
   "metadata": {},
   "cell_type": "markdown",
   "source": "You can use normal functions but in that case, the self object will not be sent when calling them and will not be accessible",
   "id": "74f63161feb62ae4"
  },
  {
   "metadata": {
    "ExecuteTime": {
     "end_time": "2025-10-27T15:30:13.818412Z",
     "start_time": "2025-10-27T15:30:13.792840Z"
    }
   },
   "cell_type": "code",
   "source": [
    "class MyClass:\n",
    "    x = 10\n",
    "    y = 20\n",
    "    def Test(self,value):\n",
    "        return ((self.x+self.y)/2 == value)\n",
    "\n",
    "def MyFunction(self,v1,v2):\n",
    "    return str(v1+v2)\n",
    "\n",
    "m = MyClass()\n",
    "print (m.Test(15),m.Test(16))\n",
    "m.Test = MyFunction\n",
    "print (m.Test(1,2))"
   ],
   "id": "75ec1a5284538cbd",
   "outputs": [
    {
     "name": "stdout",
     "output_type": "stream",
     "text": [
      "True False\n"
     ]
    },
    {
     "ename": "TypeError",
     "evalue": "MyFunction() missing 1 required positional argument: 'v2'",
     "output_type": "error",
     "traceback": [
      "\u001B[31m---------------------------------------------------------------------------\u001B[39m",
      "\u001B[31mTypeError\u001B[39m                                 Traceback (most recent call last)",
      "\u001B[36mCell\u001B[39m\u001B[36m \u001B[39m\u001B[32mIn[21]\u001B[39m\u001B[32m, line 13\u001B[39m\n\u001B[32m     11\u001B[39m \u001B[38;5;28mprint\u001B[39m (m.Test(\u001B[32m15\u001B[39m),m.Test(\u001B[32m16\u001B[39m))\n\u001B[32m     12\u001B[39m m.Test = MyFunction\n\u001B[32m---> \u001B[39m\u001B[32m13\u001B[39m \u001B[38;5;28mprint\u001B[39m (\u001B[43mm\u001B[49m\u001B[43m.\u001B[49m\u001B[43mTest\u001B[49m\u001B[43m(\u001B[49m\u001B[32;43m1\u001B[39;49m\u001B[43m,\u001B[49m\u001B[32;43m2\u001B[39;49m\u001B[43m)\u001B[49m)\n",
      "\u001B[31mTypeError\u001B[39m: MyFunction() missing 1 required positional argument: 'v2'"
     ]
    }
   ],
   "execution_count": 21
  },
  {
   "metadata": {},
   "cell_type": "markdown",
   "source": "A class method can be associated to a normal variable",
   "id": "8576779f8fd066c9"
  },
  {
   "metadata": {
    "ExecuteTime": {
     "end_time": "2025-10-27T15:31:36.857673Z",
     "start_time": "2025-10-27T15:31:36.853878Z"
    }
   },
   "cell_type": "code",
   "source": [
    "class MyClass:\n",
    "    x = 10\n",
    "    def MyFunction(self,v1,v2):\n",
    "        return str(v1+v2)+\" – self.x:\"+str(self.x)\n",
    "\n",
    "m = MyClass()\n",
    "fnc = m.MyFunction\n",
    "print (fnc(15,35))\n",
    "m.x = 123\n",
    "print (fnc(15,35))"
   ],
   "id": "41ee5deb041ef9f7",
   "outputs": [
    {
     "name": "stdout",
     "output_type": "stream",
     "text": [
      "50 – self.x:10\n",
      "50 – self.x:123\n"
     ]
    }
   ],
   "execution_count": 22
  },
  {
   "metadata": {},
   "cell_type": "markdown",
   "source": "The `self` object is assigned durring the construction of an object. as such, functions with self as parameter can be defined outside the class",
   "id": "c12aed07a7b9750"
  },
  {
   "metadata": {
    "ExecuteTime": {
     "end_time": "2025-10-27T15:33:14.098314Z",
     "start_time": "2025-10-27T15:33:14.095166Z"
    }
   },
   "cell_type": "code",
   "source": [
    "def MyFunction(self,v1,v2):\n",
    "    return str(v1+v2)+\" - X = \"+str(self.x)\n",
    "\n",
    "class MyClass:\n",
    "    x = 10\n",
    "    Test = MyFunction\n",
    "\n",
    "m = MyClass()\n",
    "m2 = MyClass()\n",
    "m2.x = 15\n",
    "print (m.Test(1,2))\n",
    "print (m2.Test(10,20))"
   ],
   "id": "2da2251442c08f46",
   "outputs": [
    {
     "name": "stdout",
     "output_type": "stream",
     "text": [
      "3 - X = 10\n",
      "30 - X = 15\n"
     ]
    }
   ],
   "execution_count": 23
  },
  {
   "metadata": {},
   "cell_type": "markdown",
   "source": "This Type of assignment can not be done with the constructor, it must be done directly declarative in class body",
   "id": "b76d3a16d92db26e"
  },
  {
   "metadata": {
    "ExecuteTime": {
     "end_time": "2025-10-27T15:34:33.489996Z",
     "start_time": "2025-10-27T15:34:33.467342Z"
    }
   },
   "cell_type": "code",
   "source": [
    "def MyFunction(self,v1,v2):\n",
    "    return str(v1+v2)+\" - X = \"+str(self.x)\n",
    "\n",
    "class MyClass:\n",
    "    x = 10\n",
    "    def __init__(self):\n",
    "        self.Test = MyFunction\n",
    "\n",
    "m = MyClass()\n",
    "m2 = MyClass()\n",
    "m2.x = 15\n",
    "print (m.Test(1,2))\n",
    "print (m2.Test(10,20))"
   ],
   "id": "e211cfbec098594c",
   "outputs": [
    {
     "ename": "TypeError",
     "evalue": "MyFunction() missing 1 required positional argument: 'v2'",
     "output_type": "error",
     "traceback": [
      "\u001B[31m---------------------------------------------------------------------------\u001B[39m",
      "\u001B[31mTypeError\u001B[39m                                 Traceback (most recent call last)",
      "\u001B[36mCell\u001B[39m\u001B[36m \u001B[39m\u001B[32mIn[24]\u001B[39m\u001B[32m, line 12\u001B[39m\n\u001B[32m     10\u001B[39m m2 = MyClass()\n\u001B[32m     11\u001B[39m m2.x = \u001B[32m15\u001B[39m\n\u001B[32m---> \u001B[39m\u001B[32m12\u001B[39m \u001B[38;5;28mprint\u001B[39m (\u001B[43mm\u001B[49m\u001B[43m.\u001B[49m\u001B[43mTest\u001B[49m\u001B[43m(\u001B[49m\u001B[32;43m1\u001B[39;49m\u001B[43m,\u001B[49m\u001B[32;43m2\u001B[39;49m\u001B[43m)\u001B[49m)\n\u001B[32m     13\u001B[39m \u001B[38;5;28mprint\u001B[39m (m2.Test(\u001B[32m10\u001B[39m,\u001B[32m20\u001B[39m))\n",
      "\u001B[31mTypeError\u001B[39m: MyFunction() missing 1 required positional argument: 'v2'"
     ]
    }
   ],
   "execution_count": 24
  },
  {
   "metadata": {},
   "cell_type": "markdown",
   "source": "Same issue if we link a class method using it's instance with a non-class function",
   "id": "6324ccdba723fd9e"
  },
  {
   "metadata": {
    "ExecuteTime": {
     "end_time": "2025-10-27T15:35:25.756971Z",
     "start_time": "2025-10-27T15:35:25.736018Z"
    }
   },
   "cell_type": "code",
   "source": [
    "def MyFunction(self,v1,v2):\n",
    "    return str(v1+v2)+\" - X = \"+str(self.x)\n",
    "\n",
    "class MyClass:\n",
    "    x = 10\n",
    "\n",
    "m = MyClass()\n",
    "m2.Test = MyFunction\n",
    "print (m.Test(1,2))"
   ],
   "id": "b952e10d5c2bcf22",
   "outputs": [
    {
     "ename": "AttributeError",
     "evalue": "'MyClass' object has no attribute 'Test'",
     "output_type": "error",
     "traceback": [
      "\u001B[31m---------------------------------------------------------------------------\u001B[39m",
      "\u001B[31mAttributeError\u001B[39m                            Traceback (most recent call last)",
      "\u001B[36mCell\u001B[39m\u001B[36m \u001B[39m\u001B[32mIn[25]\u001B[39m\u001B[32m, line 9\u001B[39m\n\u001B[32m      7\u001B[39m m = MyClass()\n\u001B[32m      8\u001B[39m m2.Test = MyFunction\n\u001B[32m----> \u001B[39m\u001B[32m9\u001B[39m \u001B[38;5;28mprint\u001B[39m (\u001B[43mm\u001B[49m\u001B[43m.\u001B[49m\u001B[43mTest\u001B[49m(\u001B[32m1\u001B[39m,\u001B[32m2\u001B[39m))\n",
      "\u001B[31mAttributeError\u001B[39m: 'MyClass' object has no attribute 'Test'"
     ]
    }
   ],
   "execution_count": 25
  },
  {
   "metadata": {},
   "cell_type": "markdown",
   "source": [
    "A class can be used as a container data. It's similar to the C's Struct. As such, we can define a class in a code after we declare an empty class\n",
    "\n",
    "To define empty blocks `pass` keyword is used"
   ],
   "id": "4fd2485f17d4b8a9"
  },
  {
   "metadata": {
    "ExecuteTime": {
     "end_time": "2025-10-27T15:37:29.685597Z",
     "start_time": "2025-10-27T15:37:29.682129Z"
    }
   },
   "cell_type": "code",
   "source": [
    "class Point:\n",
    "    pass\n",
    "\n",
    "p = Point()\n",
    "p.x = 100\n",
    "p.y = 200\n",
    "p_3d = Point()\n",
    "p_3d.x = 10\n",
    "p_3d.y = 20\n",
    "p_3d.z = 30\n",
    "print (\"P = \",p.x,p.y)\n",
    "print (\"3D= \",p_3d.x,p_3d.y,p_3d.z)"
   ],
   "id": "d7583f8da7cfa7e6",
   "outputs": [
    {
     "name": "stdout",
     "output_type": "stream",
     "text": [
      "P =  100 200\n",
      "3D=  10 20 30\n"
     ]
    }
   ],
   "execution_count": 26
  }
 ],
 "metadata": {
  "kernelspec": {
   "display_name": "Python 3",
   "language": "python",
   "name": "python3"
  },
  "language_info": {
   "codemirror_mode": {
    "name": "ipython",
    "version": 2
   },
   "file_extension": ".py",
   "mimetype": "text/x-python",
   "name": "python",
   "nbconvert_exporter": "python",
   "pygments_lexer": "ipython2",
   "version": "2.7.6"
  }
 },
 "nbformat": 4,
 "nbformat_minor": 5
}
