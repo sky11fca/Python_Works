{
 "cells": [
  {
   "cell_type": "markdown",
   "id": "9cdd5ca408df4f65",
   "metadata": {},
   "source": [
    "# Exercise 1\n",
    "\n",
    "Write a function that receives a string as parameter, and returns as a dictionary consisting of character and nr of ocurences"
   ]
  },
  {
   "cell_type": "code",
   "id": "b5f38786c0522304",
   "metadata": {
    "ExecuteTime": {
     "end_time": "2025-10-23T08:11:08.147070Z",
     "start_time": "2025-10-23T08:11:08.142738Z"
    }
   },
   "source": [
    "def word_frequency(sample_string):\n",
    "    result = dict()\n",
    "\n",
    "    for char in sample_string:\n",
    "        if char in result:\n",
    "            result[char] += 1\n",
    "        else:\n",
    "            result[char] = 1\n",
    "\n",
    "    return result\n",
    "\n",
    "print(word_frequency(\"Ana has apples.\"))\n"
   ],
   "outputs": [
    {
     "name": "stdout",
     "output_type": "stream",
     "text": [
      "{'A': 1, 'n': 1, 'a': 3, ' ': 2, 'h': 1, 's': 2, 'p': 2, 'l': 1, 'e': 1, '.': 1}\n"
     ]
    }
   ],
   "execution_count": 24
  },
  {
   "cell_type": "markdown",
   "id": "f712bca22de03a99",
   "metadata": {},
   "source": [
    "# Exercise 2\n",
    "\n",
    "Compare two dictionaries without using the operator \"==\" returning True or False. (Attention, dictionaries must be recursively covered because they can contain other containers, such as dictionaries, lists, sets, etc.)"
   ]
  },
  {
   "metadata": {
    "ExecuteTime": {
     "end_time": "2025-10-23T08:08:15.513458Z",
     "start_time": "2025-10-23T08:08:15.502224Z"
    }
   },
   "cell_type": "code",
   "source": [
    "def dict_compare(dict1, dict2):\n",
    "    if not isinstance(dict1, dict) or not isinstance(dict2, dict):\n",
    "        return False\n",
    "\n",
    "    if len(dict1) != len(dict2):\n",
    "        return False\n",
    "\n",
    "    for key in dict1:\n",
    "        if key not in dict2:\n",
    "            return False\n",
    "\n",
    "        if not value_compare(dict1[key], dict2[key]):\n",
    "            return False\n",
    "    return True\n",
    "\n",
    "\n",
    "def value_compare(value1, value2):\n",
    "\n",
    "    if type(value1) != type(value2):\n",
    "        return False\n",
    "\n",
    "    if isinstance(value1, dict):\n",
    "        return dict_compare(value1, value2)\n",
    "\n",
    "    # handle lists\n",
    "    elif isinstance(value1, list):\n",
    "        if len(value1) != len(value2):\n",
    "            return False\n",
    "\n",
    "        for i in range(len(value1)):\n",
    "            if not value_compare(value1[i], value2[i]):\n",
    "                return False\n",
    "        return True\n",
    "\n",
    "    # handle tuples\n",
    "    elif isinstance(value1, tuple):\n",
    "        if len(value1) != len(value2):\n",
    "            return False\n",
    "        for i in range(len(value1)):\n",
    "            if not value_compare(value1[i], value2[i]):\n",
    "                return False\n",
    "        return True\n",
    "\n",
    "    # handle sets\n",
    "    elif isinstance(value1, set):\n",
    "        if len(value1) != len(value2):\n",
    "            return False\n",
    "        for item in value1:\n",
    "            found = False\n",
    "            for item2 in value2:\n",
    "                if value_compare(item, item2):\n",
    "                    found = True\n",
    "                    break\n",
    "            if not found:\n",
    "                return False\n",
    "        return True\n",
    "\n",
    "    # handle other\n",
    "    else:\n",
    "        return value1 == value2\n",
    "\n",
    "d1 = {'a': 1, 'b':{\"a\": [1, 2, 3]}, \"c\":[{\"a\", 1}]}\n",
    "d2 = {'a': 1, 'b':{\"b\":1}, \"c\":[{\"b\":1}]}\n",
    "d3 = d1.copy()\n",
    "\n",
    "print(dict_compare(d1, d2))\n",
    "print(dict_compare(d1, d3))\n",
    "\n",
    "\n"
   ],
   "id": "2c51cbd6e0dc471e",
   "outputs": [
    {
     "name": "stdout",
     "output_type": "stream",
     "text": [
      "False\n",
      "True\n"
     ]
    }
   ],
   "execution_count": 23
  },
  {
   "cell_type": "markdown",
   "id": "9921303b5ace5df5",
   "metadata": {},
   "source": [
    "# Exercise 3\n",
    "\n",
    "Write a function that receives a variable number of sets and returns a dictionary with the following operations from all sets two by two: reunion, intersection, a-b, b-a. The key will have the following form: \"a op b\", where a and b are two sets, and op is the applied operator: |, &, -."
   ]
  },
  {
   "cell_type": "code",
   "id": "3623dae9fc093f6c",
   "metadata": {
    "ExecuteTime": {
     "end_time": "2025-10-23T08:13:24.639405Z",
     "start_time": "2025-10-23T08:13:24.632202Z"
    }
   },
   "source": [
    "def set_operation(*sets):\n",
    "    result = dict()\n",
    "\n",
    "    result_union = sets[0]\n",
    "    result_intersection = sets[0]\n",
    "    result_a_b = sets[0]\n",
    "\n",
    "    key_union = f\"{sets[0]}\"\n",
    "    key_intersection = f\"{sets[0]}\"\n",
    "    key_a_b = f\"{sets[0]}\"\n",
    "\n",
    "    for i in range(1, len(sets)):\n",
    "        result_union = result_union | sets[i]\n",
    "        result_intersection = result_intersection & sets[i]\n",
    "        result_a_b = result_a_b - sets[i] - result_intersection\n",
    "\n",
    "        key_union = f\"{key_union} | {sets[i]}\"\n",
    "        key_intersection = f\"{key_intersection} & {sets[i]}\"\n",
    "        key_a_b = f\"{key_a_b} - {sets[i]} - {result_intersection}\"\n",
    "\n",
    "    result_b_a = sets[-1]\n",
    "    key_b_a = f\"{sets[-1]}\"\n",
    "\n",
    "    for i in range(len(sets)-2, -1, -1):\n",
    "        result_b_a = result_b_a - sets[i]\n",
    "        key_b_a = f\"{key_b_a} - {sets[i]}\"\n",
    "\n",
    "    result[key_union] = result_union\n",
    "    result[key_intersection] = result_intersection\n",
    "    result[key_a_b] = result_a_b\n",
    "    result[key_b_a] = result_b_a\n",
    "\n",
    "    return result\n",
    "\n",
    "print(set_operation({1, 2},{2, 3}))"
   ],
   "outputs": [
    {
     "name": "stdout",
     "output_type": "stream",
     "text": [
      "{'{1, 2} | {2, 3}': {1, 2, 3}, '{1, 2} & {2, 3}': {2}, '{1, 2} - {2, 3} - {2}': {1}, '{2, 3} - {1, 2}': {3}}\n"
     ]
    }
   ],
   "execution_count": 25
  },
  {
   "cell_type": "markdown",
   "id": "1cba80625ba413d8",
   "metadata": {},
   "source": [
    "# Exercise 4\n",
    "\n",
    "Write a function that receives a single dict parameter named mapping. This dictionary always contains a string key \"start\". Starting with the value of this key you must obtain a list of objects by iterating over mapping in the following way: the value of the current key is the key for the next value, until you find a loop (a key that was visited before). The function must return the list of objects obtained as previously described."
   ]
  },
  {
   "cell_type": "code",
   "id": "630a813c8c5cb474",
   "metadata": {
    "ExecuteTime": {
     "end_time": "2025-10-23T07:32:34.265072Z",
     "start_time": "2025-10-23T07:32:34.257820Z"
    }
   },
   "source": [
    "def loop(sample_dict):\n",
    "    result = []\n",
    "    visited = {key: False for key in set(sample_dict)}\n",
    "    key = sample_dict[\"start\"]\n",
    "\n",
    "    while visited[key] == False:\n",
    "        result.append(key)\n",
    "        visited[key] = True\n",
    "        key = sample_dict[key]\n",
    "\n",
    "    return result\n",
    "\n",
    "print(loop({'start': 'a', 'b': 'a', 'a': '6', '6': 'z', 'x': '2', 'z': '2', '2': '2', 'y': 'start'}))\n"
   ],
   "outputs": [
    {
     "name": "stdout",
     "output_type": "stream",
     "text": [
      "['a', '6', 'z', '2']\n"
     ]
    }
   ],
   "execution_count": 4
  },
  {
   "cell_type": "markdown",
   "id": "6a947a9b2711dbb2",
   "metadata": {},
   "source": [
    "# Exercise 5\n",
    "\n",
    "Write a function that receives a variable number of positional arguments and a variable number of keyword arguments and will return the number of positional arguments whose values can be found among keyword arguments values."
   ]
  },
  {
   "metadata": {
    "ExecuteTime": {
     "end_time": "2025-10-23T08:15:26.317550Z",
     "start_time": "2025-10-23T08:15:26.311868Z"
    }
   },
   "cell_type": "code",
   "source": [
    "def my_function(*list_of_args, **keyword_args):\n",
    "    occurences = {key_arg: 0 for key_arg in keyword_args.values()}\n",
    "\n",
    "    for arg in list_of_args:\n",
    "        if arg in keyword_args.values():\n",
    "            occurences[arg] += 1\n",
    "\n",
    "    return sum(occurences.values())\n",
    "\n",
    "print(my_function(1, 2, 3, 4, x=1, y=2, z=3, w=5))\n"
   ],
   "id": "7bb2a191ff6e958f",
   "outputs": [
    {
     "name": "stdout",
     "output_type": "stream",
     "text": [
      "3\n"
     ]
    }
   ],
   "execution_count": 26
  }
 ],
 "metadata": {
  "kernelspec": {
   "display_name": "Python 3 (ipykernel)",
   "language": "python",
   "name": "python3"
  },
  "language_info": {
   "codemirror_mode": {
    "name": "ipython",
    "version": 3
   },
   "file_extension": ".py",
   "mimetype": "text/x-python",
   "name": "python",
   "nbconvert_exporter": "python",
   "pygments_lexer": "ipython3",
   "version": "3.13.7"
  }
 },
 "nbformat": 4,
 "nbformat_minor": 5
}
