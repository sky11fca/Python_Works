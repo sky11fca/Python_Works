{
 "cells": [
  {
   "cell_type": "markdown",
   "id": "9cdfba6a43262aa6",
   "metadata": {},
   "source": [
    "# External libraries"
   ]
  },
  {
   "cell_type": "code",
   "id": "7b0865b9e0a55af3",
   "metadata": {},
   "source": [],
   "outputs": [],
   "execution_count": null
  },
  {
   "cell_type": "markdown",
   "id": "6510de21b863d27c",
   "metadata": {},
   "source": [
    "# Exercise 1\n",
    "\n",
    "write a function `prob1() -> list[int]` that reads from keyboard a parameter n and will display a result. this number will be a parameter of `prob1_la_patrat(int) -> int` defined inside  `prob1` in a lambda function that will take x and return x*x\n",
    "\n",
    "Using prob1_la_patrat(int) -> int, function prob1 will build a list of first n problem consisting of the square. And lastly the function will output the list using _ as separator"
   ]
  },
  {
   "cell_type": "code",
   "id": "f8436d96303bab40",
   "metadata": {},
   "source": [
    "def prob1():\n",
    "    prob1_la_patrat = lambda x: x*x\n",
    "    n = int(input(\"Enter a number: \"))\n",
    "\n",
    "    nr_list = [prob1_la_patrat(num) for num in range(1, n+1)]\n",
    "\n",
    "    return \"_\".join(map(str,nr_list))\n",
    "\n",
    "print(prob1())"
   ],
   "outputs": [],
   "execution_count": null
  },
  {
   "metadata": {},
   "cell_type": "markdown",
   "source": [
    "# Exercise 2\n",
    "\n",
    "We have the function `prob3() -> tuple(list, list)` that reads from the keyboard a unknown nr of numerical values on multiple rows. This input will be stored in `input_rows` in numerical values. For each row of values we represents a set of elements, create 2 additional functions\n",
    "-  `my_union(list, list) -> list` that will return the union of 2 lists\n",
    "-  `my_intersection(list, list) -> list` that will return the intersection of 2 lists`\n",
    "\n",
    "Calling 2 of the function should return a tuple with 2 values. Being the union of all sets and the intersection of the sets"
   ],
   "id": "377897187ba3b917"
  },
  {
   "metadata": {},
   "cell_type": "code",
   "source": [
    "def prob3():\n",
    "    def my_union(list1, list2):\n",
    "        result = list1.copy()\n",
    "        result.extend([x for x in list2 if not any(x==y for y in result)])\n",
    "        return result\n",
    "\n",
    "    def my_intersection(list1, list2):\n",
    "        return [x for x in list1 if any(x==y for y in list2)]\n",
    "    input_rows = []\n",
    "    while True:\n",
    "        row = input(\"Enter a row of numbers: \")\n",
    "        if row == \"\":\n",
    "            break\n",
    "        else:\n",
    "            row = list(map(int, row.split()))\n",
    "        input_rows.append(row)\n",
    "\n",
    "    union = input_rows[0]\n",
    "    intersection = input_rows[0]\n",
    "\n",
    "    for index in range(1, len(input_rows)):\n",
    "        union = my_union(union, input_rows[index])\n",
    "        intersection = my_intersection(intersection, input_rows[index])\n",
    "\n",
    "    return (sorted(union), sorted(intersection))\n",
    "\n",
    "print(prob3())"
   ],
   "id": "6d8bd620888f7675",
   "outputs": [],
   "execution_count": null
  },
  {
   "metadata": {},
   "cell_type": "markdown",
   "source": [
    "# Exercise 3\n",
    "\n",
    "write a function `prob4() -> None` that reads from keyboard 2 numbers: `count` and `sum`\n",
    "Following the Functional Programming paradigm, display the first `count` pairs and that computed give the result the value `sum`\n",
    "\n",
    "Example:\n",
    "in: `10, 100`\n",
    "out: `[(1, 99), (2, 98), (3, 97), (4, 96), (5, 95), (6, 94), (7, 93), (8, 92), (9, 91), (10, 90), (11, 89)]`"
   ],
   "id": "af57020784aaed70"
  },
  {
   "metadata": {},
   "cell_type": "code",
   "source": [
    "def prob4():\n",
    "    count = int(input(\"Enter a number: \"))\n",
    "    sum = int(input(\"Enter a number: \"))\n",
    "\n",
    "    output_list = [(x, y) for x in range(1, count+1) for y in range(x, sum+1) if x+y==sum]\n",
    "    print(output_list)\n",
    "\n",
    "prob4()"
   ],
   "id": "1bb53a232e685497",
   "outputs": [],
   "execution_count": null
  },
  {
   "metadata": {},
   "cell_type": "markdown",
   "source": [
    "# Exercise 4\n",
    "\n",
    "Write a function `prob5() -> None` that implements a dynamic mechanism implementation of list controll. In the while loop, the system will accept the following commands:\n",
    "- `INIT` -> Initializes list / clear the list\n",
    "- `APPEND [val]` -> appends a value to the list\n",
    "- `INSERT [val] [index]` -> adds to the position index the value x, if the index is large than the size of the list, the value will be appended instead\n",
    "- `REMOVE [val]` -> removes the first value of the list. If there is no such value, it displays `DOESN'T EXIST`\n",
    "- `PRINT` -> Outputs the list\n",
    "- `EXIT` -> Closes the program"
   ],
   "id": "94d7c21676ee2578"
  },
  {
   "metadata": {},
   "cell_type": "code",
   "source": [
    "def prob5():\n",
    "    list_ = []\n",
    "\n",
    "    while True:\n",
    "        command = input(\"Enter a command: \")\n",
    "        contents = command.split()\n",
    "        print(contents)\n",
    "\n",
    "        if contents[0] == \"INIT\":\n",
    "            list_.clear()\n",
    "        elif contents[0] == \"APPEND\":\n",
    "            list_.append(int(contents[1]))\n",
    "        elif contents[0] == \"INSERT\":\n",
    "            index = int(contents[2])\n",
    "            value = int(contents[1])\n",
    "\n",
    "            if index > len(list_):\n",
    "                list_.append(value)\n",
    "            else:\n",
    "                list_.insert(index, value)\n",
    "        elif contents[0] == \"REMOVE\":\n",
    "            value = int(contents[1])\n",
    "\n",
    "            if value in list_:\n",
    "                list_.remove(value)\n",
    "            else:\n",
    "                print(\"DOESN'T EXIST\")\n",
    "        elif contents[0] == \"PRINT\":\n",
    "            print(list_)\n",
    "        elif contents[0] == \"EXIT\":\n",
    "            list_.clear()\n",
    "            del list_\n",
    "            break\n",
    "        else:\n",
    "            print(\"INVALID COMMAND\")\n",
    "\n",
    "prob5()"
   ],
   "id": "d5ceda2466b19224",
   "outputs": [],
   "execution_count": null
  },
  {
   "metadata": {},
   "cell_type": "markdown",
   "source": [
    "# Exercise 5\n",
    "\n",
    "Write a function `prob6() -> None` that reads from keyboard 2 numbers: row and columns and a matrix of rows x columns. The function will modify the matrix such that will display only the odd numbers in the odd rows and even numbers in even rows. The removed values will be replaced with an X"
   ],
   "id": "ae2b4ca988ef6f9c"
  },
  {
   "metadata": {
    "ExecuteTime": {
     "end_time": "2025-10-16T08:14:20.621350Z",
     "start_time": "2025-10-16T08:13:57.043424Z"
    }
   },
   "cell_type": "code",
   "source": [
    "def prob6():\n",
    "    rows, columns = map(int, input(\"Enter nr of rows and columns: \").split())\n",
    "\n",
    "    sample_matrix = [list(map(int, input(\"Enter a row of numbers: \").split())) for _ in range(rows)]\n",
    "\n",
    "    for i in range(rows):\n",
    "        for j in range(columns):\n",
    "            if i%2==0:\n",
    "                if sample_matrix[i][j]%2!=0:\n",
    "                    sample_matrix[i][j]=\"X\"\n",
    "            else:\n",
    "                if sample_matrix[i][j]%2==0:\n",
    "                    sample_matrix[i][j]=\"X\"\n",
    "\n",
    "    print(sample_matrix)\n",
    "\n",
    "prob6()"
   ],
   "id": "ddc0a139db796da7",
   "outputs": [
    {
     "name": "stdout",
     "output_type": "stream",
     "text": [
      "[['X', 2, 'X', 4, 'X'], ['X', 3, 'X', 5, 'X'], [2, 'X', 4, 'X', 6], [1, 'X', 3, 'X', 5]]\n"
     ]
    }
   ],
   "execution_count": 4
  }
 ],
 "metadata": {
  "kernelspec": {
   "display_name": "Python 3 (ipykernel)",
   "language": "python",
   "name": "python3"
  },
  "language_info": {
   "codemirror_mode": {
    "name": "ipython",
    "version": 3
   },
   "file_extension": ".py",
   "mimetype": "text/x-python",
   "name": "python",
   "nbconvert_exporter": "python",
   "pygments_lexer": "ipython3",
   "version": "3.13.7"
  }
 },
 "nbformat": 4,
 "nbformat_minor": 5
}
