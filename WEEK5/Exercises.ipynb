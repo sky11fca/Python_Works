{
  "cells": [
    {
      "metadata": {
        "id": "a1fe3640bad77963"
      },
      "cell_type": "markdown",
      "source": [
        "# Exercise 1"
      ],
      "id": "a1fe3640bad77963"
    },
    {
      "metadata": {
        "id": "8620323b54205f0a"
      },
      "cell_type": "markdown",
      "source": [
        "Class: BankAccount\n",
        "\n",
        "**Attributes**\n",
        "- holder\n",
        "- balance\n",
        "\n",
        "**Methods**\n",
        "- deposit (add amount of currency)\n",
        "- withdraw (remove amount of currency. If the amount we want to withdraw is large than the balance, a message will be displayed)\n",
        "- display_balance"
      ],
      "id": "8620323b54205f0a"
    },
    {
      "metadata": {
        "id": "cf9f601294f7ae6a"
      },
      "cell_type": "code",
      "source": [
        "class BankAccount:\n",
        "    def __init__(self, holder):\n",
        "        self.holder = holder\n",
        "        self.balance = 0\n",
        "\n",
        "    def deposit(self, amount):\n",
        "        self.balance += amount\n",
        "\n",
        "    def withdraw(self, amount):\n",
        "        if amount > self.balance:\n",
        "            print(f\"account {self.holder} does not have enough money to withdraw {amount}\")\n",
        "        else:\n",
        "            self.balance -= amount\n",
        "\n",
        "    def display_balance(self):\n",
        "        print(f\"account {self.holder} has {self.balance} in balance\")"
      ],
      "id": "cf9f601294f7ae6a",
      "outputs": [],
      "execution_count": 11
    },
    {
      "metadata": {
        "collapsed": true,
        "id": "643d7e1b41e35e85",
        "outputId": "c0730850-2328-4043-d22e-ab4c8d4a6cfd",
        "colab": {
          "base_uri": "https://localhost:8080/"
        }
      },
      "cell_type": "code",
      "source": [
        "alice = BankAccount(\"Alice\")\n",
        "alice.deposit(300)\n",
        "alice.deposit(1500)\n",
        "\n",
        "alice.display_balance()\n",
        "\n",
        "alice.withdraw(300)\n",
        "alice.display_balance()\n",
        "\n",
        "# example of amount to withdraw > balance\n",
        "\n",
        "alice.withdraw(2000)"
      ],
      "id": "643d7e1b41e35e85",
      "outputs": [
        {
          "output_type": "stream",
          "name": "stdout",
          "text": [
            "account Alice has 1800 in balance\n",
            "account Alice has 1500 in balance\n",
            "account Alice does not have enough money to withdraw 2000\n"
          ]
        }
      ],
      "execution_count": 12
    },
    {
      "metadata": {
        "id": "bdf92d47d8aa960a"
      },
      "cell_type": "markdown",
      "source": [
        "# Exercise 2\n",
        "\n",
        "Class Product\n",
        "\n",
        "**Attributes**\n",
        "\n",
        "- Name\n",
        "- Price\n",
        "- Quantity\n",
        "\n",
        "**Methods**\n",
        "\n",
        "- total_value -> Return Price * Quantity\n",
        "- update_quantity(quantity) -> Updates Quantity\n",
        "- description -> Prints the folowing:\n",
        "\n",
        "```\n",
        "Product: {Name}\n",
        "Price: {Price}\n",
        "Quantity: {Quantity}\n",
        "Total Value: {total_value}\n",
        "```"
      ],
      "id": "bdf92d47d8aa960a"
    },
    {
      "metadata": {
        "id": "ca62d95dced0ff6f"
      },
      "cell_type": "code",
      "source": [
        "class Product:\n",
        "    def __init__(self, name, price, quantity):\n",
        "        self.name = name\n",
        "        self.price = price\n",
        "        self.quantity = quantity\n",
        "\n",
        "    def total_value(self):\n",
        "        return self.price * self.quantity\n",
        "    def update_quantity(self, quantity):\n",
        "        self.quantity = quantity\n",
        "    def description(self):\n",
        "        print(f\"Product: {self.name}\\nPrice: {self.price}\\nQuantity: {self.quantity}\\nTotal Value: {self.total_value()}\\n\")"
      ],
      "id": "ca62d95dced0ff6f",
      "outputs": [],
      "execution_count": 13
    },
    {
      "metadata": {
        "id": "966f8a02f0b46490",
        "outputId": "b78734c9-c125-42a6-ae6d-128c456fdb77",
        "colab": {
          "base_uri": "https://localhost:8080/"
        }
      },
      "cell_type": "code",
      "source": [
        "mi_product = Product(\"AXE Spray\", 100, 10)\n",
        "mi_product.description()\n",
        "mi_product.update_quantity(20)\n",
        "mi_product.description()"
      ],
      "id": "966f8a02f0b46490",
      "outputs": [
        {
          "output_type": "stream",
          "name": "stdout",
          "text": [
            "Product: AXE Spray\n",
            "Price: 100\n",
            "Quantity: 10\n",
            "Total Value: 1000\n",
            "\n",
            "Product: AXE Spray\n",
            "Price: 100\n",
            "Quantity: 20\n",
            "Total Value: 2000\n",
            "\n"
          ]
        }
      ],
      "execution_count": 14
    },
    {
      "metadata": {
        "id": "9f4df0e03b3b57f9"
      },
      "cell_type": "markdown",
      "source": [
        "# Exercise 3\n",
        "\n",
        "Class Invoice (It stores a list of products, Use the Product class from previous exercise)\n",
        "\n",
        "**Attributes**\n",
        "\n",
        "- products -> \\[list\\]\n",
        "\n",
        "**Methods**\n",
        "\n",
        "- add_product(name, price, quantity) -> Adds a product to the Invoice\n",
        "- total_value -> Returns the sum of all products\n",
        "- most_expensive -> Returns the product with the highest unit price\n",
        "- display -> Display all products and final total"
      ],
      "id": "9f4df0e03b3b57f9"
    },
    {
      "metadata": {
        "id": "9b5adb265f5a9be9"
      },
      "cell_type": "code",
      "source": [
        "class Invoice:\n",
        "    def __init__(self):\n",
        "        self.products = []\n",
        "\n",
        "    def add_product(self, name, price, quantity):\n",
        "        self.products.append(Product(name, price, quantity))\n",
        "\n",
        "    def total_value(self):\n",
        "        total = 0\n",
        "        for product in self.products:\n",
        "            total += product.total_value()\n",
        "        return total\n",
        "    def most_expensive(self):\n",
        "        most_expensive = self.products[0]\n",
        "        for product in self.products:\n",
        "            if product.total_value() > most_expensive.total_value():\n",
        "                most_expensive = product\n",
        "        return most_expensive\n",
        "    def display(self):\n",
        "        print(\"Invoice:\")\n",
        "        for product in self.products:\n",
        "            product.description()\n",
        "        print(f\"Total: {self.total_value()} \\n\")"
      ],
      "id": "9b5adb265f5a9be9",
      "outputs": [],
      "execution_count": 15
    },
    {
      "metadata": {
        "id": "fa21a31c7a78038f",
        "outputId": "66d4e3c8-9bb9-481c-9323-807992ba7a06",
        "colab": {
          "base_uri": "https://localhost:8080/"
        }
      },
      "cell_type": "code",
      "source": [
        "mi_inventory = Invoice()\n",
        "\n",
        "mi_inventory.add_product(\"AXE Spray\", 100, 10)\n",
        "mi_inventory.add_product(\"Brinza Jerry\", 10, 500)\n",
        "mi_inventory.add_product(\"Cafeluta Starbucks rece rece\", 1, 1)\n",
        "mi_inventory.add_product(\"Air flavored Lays\", 8, 25)\n",
        "\n",
        "most_expensive_product_unit = mi_inventory.most_expensive()\n",
        "\n",
        "print(most_expensive_product_unit.description())\n",
        "\n",
        "mi_inventory.display()"
      ],
      "id": "fa21a31c7a78038f",
      "outputs": [
        {
          "output_type": "stream",
          "name": "stdout",
          "text": [
            "Product: Brinza Jerry\n",
            "Price: 10\n",
            "Quantity: 500\n",
            "Total Value: 5000\n",
            "\n",
            "None\n",
            "Invoice:\n",
            "Product: AXE Spray\n",
            "Price: 100\n",
            "Quantity: 10\n",
            "Total Value: 1000\n",
            "\n",
            "Product: Brinza Jerry\n",
            "Price: 10\n",
            "Quantity: 500\n",
            "Total Value: 5000\n",
            "\n",
            "Product: Cafeluta Starbucks rece rece\n",
            "Price: 1\n",
            "Quantity: 1\n",
            "Total Value: 1\n",
            "\n",
            "Product: Air flavored Lays\n",
            "Price: 8\n",
            "Quantity: 25\n",
            "Total Value: 200\n",
            "\n",
            "Total: 6201 \n",
            "\n"
          ]
        }
      ],
      "execution_count": 16
    },
    {
      "metadata": {
        "id": "435cb06299c1a6ba"
      },
      "cell_type": "markdown",
      "source": [
        "# Exercise 4\n",
        "\n",
        "Class DiceGame:\n",
        "(A class where we simulate a Die Game with a list of players taking given turns rolling the dice, the number the die face is added to the player's score, the winner is the player with the highest score)\n",
        "\n",
        "**Attributes**\n",
        "\n",
        "- players \\[List\\]\n",
        "- scored {dict(player:score)} (initialized with 0)\n",
        "- round int: nr of turns\n",
        "\n",
        "\n",
        "**Methods**\n",
        "\n",
        "- play_round -> every player will roll a die and the value is added to score (`random.randint(1,6)`)\n",
        "- display_scores -> display the current score\n",
        "- winner() returns the player with maximum score."
      ],
      "id": "435cb06299c1a6ba"
    },
    {
      "metadata": {
        "ExecuteTime": {
          "end_time": "2025-10-30T09:12:31.885839Z",
          "start_time": "2025-10-30T09:12:31.882405Z"
        },
        "id": "6eec615ee8e14733"
      },
      "cell_type": "code",
      "source": [
        "import random"
      ],
      "id": "6eec615ee8e14733",
      "outputs": [],
      "execution_count": 17
    },
    {
      "metadata": {
        "ExecuteTime": {
          "end_time": "2025-10-30T09:14:10.382833Z",
          "start_time": "2025-10-30T09:14:10.374436Z"
        },
        "id": "b4e483bf7bb6ff7"
      },
      "cell_type": "code",
      "source": [
        "class DieGame:\n",
        "    def __init__(self, players, rounds):\n",
        "        self.players = players\n",
        "        self.scores = {player: 0 for player in players}\n",
        "        self.rounds = rounds\n",
        "\n",
        "    def play_round(self):\n",
        "        for player in self.players:\n",
        "            self.scores[player] += random.randint(1,6)\n",
        "\n",
        "    def display_scores(self):\n",
        "        print(\"Scores:\")\n",
        "        for player, score in self.scores.items():\n",
        "            print(f\"{player}: {score}\")\n",
        "\n",
        "    def winner(self):\n",
        "        max_score = max(self.scores.values())\n",
        "\n",
        "        winners = [player for player, score in self.scores.items() if score == max_score]\n",
        "\n",
        "        if len(winners) == 1:\n",
        "            return winners[0]\n",
        "\n",
        "        print(\"\\n----TIE BREAKER-----\")\n",
        "        print(f\"Players: {', '.join(winners)}\")\n",
        "\n",
        "        while len(winners)>1:\n",
        "            tie_scores = {player: score for player, score in self.scores.items() if player in winners}\n",
        "\n",
        "            for player in winners:\n",
        "                tie_scores[player] += random.randint(1,6)\n",
        "\n",
        "            max_score = max(tie_scores.values())\n",
        "            winners = [player for player, score in tie_scores.items() if score == max_score]\n",
        "\n",
        "            if len(winners) == 1:\n",
        "                return winners[0]\n",
        "            else:\n",
        "                print(f\"Players: {', '.join(winners)}\")\n",
        "\n",
        "        return winners[0]"
      ],
      "id": "b4e483bf7bb6ff7",
      "outputs": [],
      "execution_count": 18
    },
    {
      "metadata": {
        "id": "846f50957f4cd15f"
      },
      "cell_type": "markdown",
      "source": [
        "**Simulating a game**"
      ],
      "id": "846f50957f4cd15f"
    },
    {
      "metadata": {
        "ExecuteTime": {
          "end_time": "2025-10-30T09:12:40.646455Z",
          "start_time": "2025-10-30T09:12:40.640188Z"
        },
        "id": "1bdfb4ae7cfcb99",
        "outputId": "be7c7765-0db7-4ff6-aa3d-de8c280d0394",
        "colab": {
          "base_uri": "https://localhost:8080/"
        }
      },
      "cell_type": "code",
      "source": [
        "players = [\"V\", \"V1\", \"V2\"]\n",
        "\n",
        "game = DieGame(players, 5)\n",
        "\n",
        "for idx in range(game.rounds):\n",
        "    game.play_round()\n",
        "\n",
        "game.display_scores()\n",
        "\n",
        "winner = game.winner()\n",
        "\n",
        "print(f\"Winner: {winner}\")"
      ],
      "id": "1bdfb4ae7cfcb99",
      "outputs": [
        {
          "output_type": "stream",
          "name": "stdout",
          "text": [
            "Scores:\n",
            "V: 14\n",
            "V1: 15\n",
            "V2: 21\n",
            "Winner: V2\n"
          ]
        }
      ],
      "execution_count": 19
    }
  ],
  "metadata": {
    "kernelspec": {
      "display_name": "Python 3",
      "language": "python",
      "name": "python3"
    },
    "language_info": {
      "codemirror_mode": {
        "name": "ipython",
        "version": 2
      },
      "file_extension": ".py",
      "mimetype": "text/x-python",
      "name": "python",
      "nbconvert_exporter": "python",
      "pygments_lexer": "ipython2",
      "version": "2.7.6"
    },
    "colab": {
      "provenance": []
    }
  },
  "nbformat": 4,
  "nbformat_minor": 5
}