{
 "cells": [
  {
   "metadata": {},
   "cell_type": "markdown",
   "source": [
    "# Exercise 1\n",
    "\n",
    "Given 2 words. Replace each occurrence of the first word into the second sentence"
   ],
   "id": "53fda7a2404707ed"
  },
  {
   "metadata": {
    "collapsed": true,
    "ExecuteTime": {
     "end_time": "2025-10-13T13:27:12.078188Z",
     "start_time": "2025-10-13T13:27:12.074969Z"
    }
   },
   "cell_type": "code",
   "source": [
    "pattern=\"Linux\"\n",
    "replacement=\"Windows\"\n",
    "sample=\"Linux is great, I love Linux\"\n",
    "\n",
    "words = sample.split()\n",
    "for i in range(len(words)):\n",
    "    if words[i] == pattern:\n",
    "        words[i] = replacement\n",
    "\n",
    "print(\" \".join(words))"
   ],
   "id": "7a64b126c7ed44d5",
   "outputs": [
    {
     "name": "stdout",
     "output_type": "stream",
     "text": [
      "Windows is great, I love Windows\n"
     ]
    }
   ],
   "execution_count": 1
  },
  {
   "metadata": {},
   "cell_type": "markdown",
   "source": [
    "# Exercise 2\n",
    "Write a script that reads a string, and builds from memory and display on the screen the string characters obtained by reading only alphabetic characters"
   ],
   "id": "5a733e80a6a00af1"
  },
  {
   "metadata": {
    "ExecuteTime": {
     "end_time": "2025-10-13T13:27:22.880510Z",
     "start_time": "2025-10-13T13:27:12.122903Z"
    }
   },
   "cell_type": "code",
   "source": [
    "given_string = input()\n",
    "\n",
    "print(''.join(char for char in given_string if char.isalpha()))"
   ],
   "id": "a40d21be61758cac",
   "outputs": [
    {
     "name": "stdout",
     "output_type": "stream",
     "text": [
      "LearningPython\n"
     ]
    }
   ],
   "execution_count": 2
  },
  {
   "metadata": {},
   "cell_type": "markdown",
   "source": [
    "# Exercise 3\n",
    "Write a script that if you process 2 strings, with lowercase letters separated from space, returns the number of words from x that have the prefix y"
   ],
   "id": "a1a8c3fd6a506822"
  },
  {
   "metadata": {
    "ExecuteTime": {
     "end_time": "2025-10-13T13:27:22.907142Z",
     "start_time": "2025-10-13T13:27:22.903392Z"
    }
   },
   "cell_type": "code",
   "source": [
    "x = \"learning leasure lenstra linux\"\n",
    "y = \"le\"\n",
    "\n",
    "words = x.split()\n",
    "cnt = 0\n",
    "\n",
    "for word in words:\n",
    "    if word.startswith(y):\n",
    "        cnt += 1\n",
    "\n",
    "print(cnt)"
   ],
   "id": "bbe868e3d2bf0494",
   "outputs": [
    {
     "name": "stdout",
     "output_type": "stream",
     "text": [
      "3\n"
     ]
    }
   ],
   "execution_count": 3
  },
  {
   "metadata": {},
   "cell_type": "markdown",
   "source": [
    "# Exercise 4\n",
    "\n",
    "Script that takes a base 10 number and returns a string base 2 value"
   ],
   "id": "4f16f501abcbd710"
  },
  {
   "metadata": {
    "ExecuteTime": {
     "end_time": "2025-10-13T13:27:22.954393Z",
     "start_time": "2025-10-13T13:27:22.951381Z"
    }
   },
   "cell_type": "code",
   "source": [
    "def dec_to_bin(n):\n",
    "    return str(bin(n))\n",
    "\n",
    "sample=10\n",
    "print(dec_to_bin(sample))"
   ],
   "id": "621ab4c301fbc73",
   "outputs": [
    {
     "name": "stdout",
     "output_type": "stream",
     "text": [
      "0b1010\n"
     ]
    }
   ],
   "execution_count": 4
  },
  {
   "metadata": {},
   "cell_type": "markdown",
   "source": [
    "# Exercise 5\n",
    "Function that checks whether a given word is a palindrome"
   ],
   "id": "39fb4d89fee5dfc6"
  },
  {
   "metadata": {
    "ExecuteTime": {
     "end_time": "2025-10-13T13:27:23.002757Z",
     "start_time": "2025-10-13T13:27:22.999773Z"
    }
   },
   "cell_type": "code",
   "source": [
    "def is_palindrome(n):\n",
    "    return str(n) == str(n)[::-1]\n",
    "\n",
    "\n",
    "print(is_palindrome(12321))\n",
    "print(is_palindrome(31215))"
   ],
   "id": "4876b97e80831a5b",
   "outputs": [
    {
     "name": "stdout",
     "output_type": "stream",
     "text": [
      "True\n",
      "False\n"
     ]
    }
   ],
   "execution_count": 5
  },
  {
   "metadata": {},
   "cell_type": "markdown",
   "source": [
    "# Exercise 6\n",
    "Function that counts how many words are in a sentence"
   ],
   "id": "e96d4a74d6ed155"
  },
  {
   "metadata": {
    "ExecuteTime": {
     "end_time": "2025-10-13T13:27:23.049838Z",
     "start_time": "2025-10-13T13:27:23.046860Z"
    }
   },
   "cell_type": "code",
   "source": [
    "def word_count(sentence):\n",
    "    words=sentence.split()\n",
    "    return len(words)\n",
    "\n",
    "sentence=\"I have Python Exam\"\n",
    "print(word_count(sentence))"
   ],
   "id": "169f48d2b2c0c147",
   "outputs": [
    {
     "name": "stdout",
     "output_type": "stream",
     "text": [
      "4\n"
     ]
    }
   ],
   "execution_count": 6
  },
  {
   "metadata": {},
   "cell_type": "markdown",
   "source": [
    "# Exercise 7\n",
    "Function that extracts only digits from a sentence"
   ],
   "id": "e08b3cbb75366291"
  },
  {
   "metadata": {
    "ExecuteTime": {
     "end_time": "2025-10-13T13:27:23.097451Z",
     "start_time": "2025-10-13T13:27:23.094045Z"
    }
   },
   "cell_type": "code",
   "source": [
    "def digit_extract(string):\n",
    "    nr_strings = []\n",
    "\n",
    "    for i in string:\n",
    "        if i.isdigit():\n",
    "            nr_strings.append(i)\n",
    "    return ''.join(nr_strings)\n",
    "\n",
    "\n",
    "sample1 = \"An apple is 123 USD\"\n",
    "sample2 = \"abc123abc\"\n",
    "\n",
    "print(digit_extract(sample1))\n",
    "print(digit_extract(sample2))"
   ],
   "id": "f7cfc4a97e1992d2",
   "outputs": [
    {
     "name": "stdout",
     "output_type": "stream",
     "text": [
      "123\n",
      "123\n"
     ]
    }
   ],
   "execution_count": 7
  },
  {
   "metadata": {},
   "cell_type": "markdown",
   "source": [
    "# Exercise 8\n",
    "Function that given a list of elements prints out the triple of numbers from that list that form a triangle\n",
    "\n",
    "We say 3 numbers form a triangle if sum of 2 edges are greater than the third"
   ],
   "id": "f619d330ff044213"
  },
  {
   "metadata": {
    "ExecuteTime": {
     "end_time": "2025-10-13T13:27:23.163677Z",
     "start_time": "2025-10-13T13:27:23.150386Z"
    }
   },
   "cell_type": "code",
   "source": [
    "def triangle_counter(list):\n",
    "    cnt=0\n",
    "\n",
    "    for i in range(len(list)):\n",
    "        for j in range(i+1,len(list)):\n",
    "            for k in range(j+1,len(list)):\n",
    "                '''\n",
    "                We say a triple of a, b, c numbers can form a triangle if:\n",
    "                a + b > c\n",
    "                or\n",
    "                a + c > b\n",
    "                or\n",
    "                b + c > a\n",
    "\n",
    "                In other words, the sum of 2 sides must be greater than the third side.\n",
    "                '''\n",
    "                if list[i]+list[j]>list[k] and list[i]+list[k]>list[j] and list[j]+list[k]>list[i]:\n",
    "                    cnt+=1\n",
    "                    print(f\"found a triangle with sides {list[i]}, {list[j]}, {list[k]}\")\n",
    "\n",
    "\n",
    "    return cnt\n",
    "\n",
    "\n",
    "sample=[1,2,3,4,5,6,7,8,9]\n",
    "print(f\"this list {sample} has {triangle_counter(sample)} possible triangles\")"
   ],
   "id": "85fd36957271f444",
   "outputs": [
    {
     "name": "stdout",
     "output_type": "stream",
     "text": [
      "found a triangle with sides 2, 3, 4\n",
      "found a triangle with sides 2, 4, 5\n",
      "found a triangle with sides 2, 5, 6\n",
      "found a triangle with sides 2, 6, 7\n",
      "found a triangle with sides 2, 7, 8\n",
      "found a triangle with sides 2, 8, 9\n",
      "found a triangle with sides 3, 4, 5\n",
      "found a triangle with sides 3, 4, 6\n",
      "found a triangle with sides 3, 5, 6\n",
      "found a triangle with sides 3, 5, 7\n",
      "found a triangle with sides 3, 6, 7\n",
      "found a triangle with sides 3, 6, 8\n",
      "found a triangle with sides 3, 7, 8\n",
      "found a triangle with sides 3, 7, 9\n",
      "found a triangle with sides 3, 8, 9\n",
      "found a triangle with sides 4, 5, 6\n",
      "found a triangle with sides 4, 5, 7\n",
      "found a triangle with sides 4, 5, 8\n",
      "found a triangle with sides 4, 6, 7\n",
      "found a triangle with sides 4, 6, 8\n",
      "found a triangle with sides 4, 6, 9\n",
      "found a triangle with sides 4, 7, 8\n",
      "found a triangle with sides 4, 7, 9\n",
      "found a triangle with sides 4, 8, 9\n",
      "found a triangle with sides 5, 6, 7\n",
      "found a triangle with sides 5, 6, 8\n",
      "found a triangle with sides 5, 6, 9\n",
      "found a triangle with sides 5, 7, 8\n",
      "found a triangle with sides 5, 7, 9\n",
      "found a triangle with sides 5, 8, 9\n",
      "found a triangle with sides 6, 7, 8\n",
      "found a triangle with sides 6, 7, 9\n",
      "found a triangle with sides 6, 8, 9\n",
      "found a triangle with sides 7, 8, 9\n",
      "this list [1, 2, 3, 4, 5, 6, 7, 8, 9] has 34 possible triangles\n"
     ]
    }
   ],
   "execution_count": 8
  },
  {
   "metadata": {},
   "cell_type": "markdown",
   "source": [
    "# Exercise 9\n",
    "Script that converts a UpperCamelCase into lowercase_with_underscores"
   ],
   "id": "7bd96caa148eb47c"
  },
  {
   "metadata": {
    "ExecuteTime": {
     "end_time": "2025-10-13T13:27:23.239251Z",
     "start_time": "2025-10-13T13:27:23.229172Z"
    }
   },
   "cell_type": "code",
   "source": [
    "sample = \"UpperCaseCamel\"\n",
    "results = [sample[0].lower()]\n",
    "\n",
    "for char in sample[1:]:\n",
    "    if char.isupper():\n",
    "        results.append(\"_\")\n",
    "        results.append(char.lower())\n",
    "    else:\n",
    "        results.append(char)\n",
    "\n",
    "print(''.join(results))"
   ],
   "id": "7b1daa61f990fbc4",
   "outputs": [
    {
     "name": "stdout",
     "output_type": "stream",
     "text": [
      "upper_case_camel\n"
     ]
    }
   ],
   "execution_count": 9
  },
  {
   "metadata": {},
   "cell_type": "markdown",
   "source": [
    "# Exercise 10\n",
    "Script that given 2 strings returns the number of appearances of first string in the second string"
   ],
   "id": "9f243e35fefb2f98"
  },
  {
   "metadata": {
    "ExecuteTime": {
     "end_time": "2025-10-13T13:27:23.287131Z",
     "start_time": "2025-10-13T13:27:23.283929Z"
    }
   },
   "cell_type": "code",
   "source": [
    "sample1 = \"Linux is great, I love learning Linux\"\n",
    "sample2 = \"Linux\"\n",
    "\n",
    "words = sample1.split()\n",
    "\n",
    "cnt = 0\n",
    "\n",
    "for word in words:\n",
    "    if word == sample2:\n",
    "       cnt+=1\n",
    "\n",
    "print(f\"Nr of appearances of string {sample2} is {cnt}\")"
   ],
   "id": "296581cdc37574f2",
   "outputs": [
    {
     "name": "stdout",
     "output_type": "stream",
     "text": [
      "Nr of appearances of string Linux is 2\n"
     ]
    }
   ],
   "execution_count": 10
  }
 ],
 "metadata": {
  "kernelspec": {
   "display_name": "Python 3",
   "language": "python",
   "name": "python3"
  },
  "language_info": {
   "codemirror_mode": {
    "name": "ipython",
    "version": 2
   },
   "file_extension": ".py",
   "mimetype": "text/x-python",
   "name": "python",
   "nbconvert_exporter": "python",
   "pygments_lexer": "ipython2",
   "version": "2.7.6"
  }
 },
 "nbformat": 4,
 "nbformat_minor": 5
}
